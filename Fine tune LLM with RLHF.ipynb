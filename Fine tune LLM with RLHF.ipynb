{
  "cells": [
    {
      "cell_type": "markdown",
      "source": [
        "#### **Install the required packages**"
      ],
      "metadata": {
        "id": "clPY9vGU4q8M"
      },
      "id": "clPY9vGU4q8M"
    },
    {
      "cell_type": "code",
      "source": [
        "! pip install -q transformers trl\n",
        "! pip install -q trl"
      ],
      "metadata": {
        "id": "ebpocnsrnuIZ"
      },
      "id": "ebpocnsrnuIZ",
      "execution_count": 1,
      "outputs": []
    },
    {
      "cell_type": "markdown",
      "source": [
        "#### **Load the required libraries**"
      ],
      "metadata": {
        "id": "74JOwkyc436y"
      },
      "id": "74JOwkyc436y"
    },
    {
      "cell_type": "code",
      "execution_count": 2,
      "id": "2fa80b0e",
      "metadata": {
        "id": "2fa80b0e"
      },
      "outputs": [],
      "source": [
        "import os\n",
        "import json\n",
        "import time\n",
        "import torch\n",
        "import random\n",
        "import numpy as np\n",
        "import pandas as pd\n",
        "import transformers\n",
        "\n",
        "from random import choices\n",
        "from tqdm import tqdm\n",
        "from google.colab import files\n",
        "from datasets import Dataset, load_dataset\n",
        "from torch.utils.data import Dataset\n",
        "from transformers import pipeline, set_seed\n",
        "from transformers import AutoModelForCausalLM, AutoTokenizer, Trainer, TrainingArguments\n",
        "from transformers import default_data_collator, DataCollatorForLanguageModeling\n",
        "from trl import RewardTrainer, SFTTrainer\n",
        "from trl import PPOTrainer, PPOConfig, AutoModelForCausalLMWithValueHead, create_reference_model"
      ]
    },
    {
      "cell_type": "code",
      "source": [
        "# tokenizer = AutoTokenizer.from_pretrained(\"/home/gpuuser/starcoder_ashish/model\")\n",
        "# model = AutoModelForCausalLM.from_pretrained(\"/home/gpuuser/starcoder_ashish/tiny_starcoder\", use_cache=False)\n",
        "# tokenizer.pad_token = tokenizer.eos_token\n",
        "# model.resize_token_embeddings(len(tokenizer))\n",
        "# tokenizer.pad_token_id = tokenizer.eos_token_id\n",
        "# model.config.end_token_id = tokenizer.eos_token_id\n",
        "# model.config.pad_token_id = model.config.eos_token_id\n",
        "\n",
        "# # Set up the metric\n",
        "# rouge = evaluate.load(\"rouge\")"
      ],
      "metadata": {
        "id": "8WlhNo1B8LFT"
      },
      "id": "8WlhNo1B8LFT",
      "execution_count": 3,
      "outputs": []
    },
    {
      "cell_type": "markdown",
      "source": [
        "#### **Initial parameters setup**"
      ],
      "metadata": {
        "id": "_xIA_gn45NN4"
      },
      "id": "_xIA_gn45NN4"
    },
    {
      "cell_type": "code",
      "source": [
        "def set_seed(seed_val=42):\n",
        "    random.seed(seed_val)\n",
        "    np.random.seed(seed_val)\n",
        "    torch.manual_seed(seed_val)\n",
        "    torch.cuda.manual_seed_all(seed_val)\n",
        "\n",
        "max_input_length = 256\n",
        "random.seed(42)\n",
        "learning_rate = 1e-5"
      ],
      "metadata": {
        "id": "7u-RvIBS5Bki"
      },
      "id": "7u-RvIBS5Bki",
      "execution_count": 4,
      "outputs": []
    },
    {
      "cell_type": "markdown",
      "source": [
        "#### **Upload the datasets**"
      ],
      "metadata": {
        "id": "wJy-zixr8xeQ"
      },
      "id": "wJy-zixr8xeQ"
    },
    {
      "cell_type": "code",
      "source": [
        "# Create an empty directory\n",
        "folder_name = \"data\"\n",
        "if not os.path.exists(folder_name):\n",
        "    os.makedirs(folder_name)\n",
        "print(f\"An empty directory named '{folder_name}' has been created.\")\n",
        "\n",
        "# Upload files to the folder\n",
        "print(f\"Now please upload your required file(s).\")\n",
        "uploaded_files = files.upload()\n",
        "\n",
        "# Move uploaded files to the created folder\n",
        "for file_name in uploaded_files.keys():\n",
        "    source_path = file_name\n",
        "    destination_path = os.path.join(folder_name, file_name)\n",
        "    os.rename(source_path, destination_path)\n",
        "    print(f\"'{file_name}' has been uploaded and moved to '{folder_name}' directory.\")"
      ],
      "metadata": {
        "colab": {
          "base_uri": "https://localhost:8080/",
          "height": 74
        },
        "id": "buTLiLq4p9nU",
        "outputId": "573c277f-6126-486d-d9ea-c9dfdf4abaf4"
      },
      "id": "buTLiLq4p9nU",
      "execution_count": 5,
      "outputs": [
        {
          "output_type": "stream",
          "name": "stdout",
          "text": [
            "An empty directory named 'data' has been created.\n",
            "Now please upload your required file(s).\n"
          ]
        },
        {
          "output_type": "display_data",
          "data": {
            "text/plain": [
              "<IPython.core.display.HTML object>"
            ],
            "text/html": [
              "\n",
              "     <input type=\"file\" id=\"files-3c751df9-e650-4846-82da-58ec6f4020c8\" name=\"files[]\" multiple disabled\n",
              "        style=\"border:none\" />\n",
              "     <output id=\"result-3c751df9-e650-4846-82da-58ec6f4020c8\">\n",
              "      Upload widget is only available when the cell has been executed in the\n",
              "      current browser session. Please rerun this cell to enable.\n",
              "      </output>\n",
              "      <script>// Copyright 2017 Google LLC\n",
              "//\n",
              "// Licensed under the Apache License, Version 2.0 (the \"License\");\n",
              "// you may not use this file except in compliance with the License.\n",
              "// You may obtain a copy of the License at\n",
              "//\n",
              "//      http://www.apache.org/licenses/LICENSE-2.0\n",
              "//\n",
              "// Unless required by applicable law or agreed to in writing, software\n",
              "// distributed under the License is distributed on an \"AS IS\" BASIS,\n",
              "// WITHOUT WARRANTIES OR CONDITIONS OF ANY KIND, either express or implied.\n",
              "// See the License for the specific language governing permissions and\n",
              "// limitations under the License.\n",
              "\n",
              "/**\n",
              " * @fileoverview Helpers for google.colab Python module.\n",
              " */\n",
              "(function(scope) {\n",
              "function span(text, styleAttributes = {}) {\n",
              "  const element = document.createElement('span');\n",
              "  element.textContent = text;\n",
              "  for (const key of Object.keys(styleAttributes)) {\n",
              "    element.style[key] = styleAttributes[key];\n",
              "  }\n",
              "  return element;\n",
              "}\n",
              "\n",
              "// Max number of bytes which will be uploaded at a time.\n",
              "const MAX_PAYLOAD_SIZE = 100 * 1024;\n",
              "\n",
              "function _uploadFiles(inputId, outputId) {\n",
              "  const steps = uploadFilesStep(inputId, outputId);\n",
              "  const outputElement = document.getElementById(outputId);\n",
              "  // Cache steps on the outputElement to make it available for the next call\n",
              "  // to uploadFilesContinue from Python.\n",
              "  outputElement.steps = steps;\n",
              "\n",
              "  return _uploadFilesContinue(outputId);\n",
              "}\n",
              "\n",
              "// This is roughly an async generator (not supported in the browser yet),\n",
              "// where there are multiple asynchronous steps and the Python side is going\n",
              "// to poll for completion of each step.\n",
              "// This uses a Promise to block the python side on completion of each step,\n",
              "// then passes the result of the previous step as the input to the next step.\n",
              "function _uploadFilesContinue(outputId) {\n",
              "  const outputElement = document.getElementById(outputId);\n",
              "  const steps = outputElement.steps;\n",
              "\n",
              "  const next = steps.next(outputElement.lastPromiseValue);\n",
              "  return Promise.resolve(next.value.promise).then((value) => {\n",
              "    // Cache the last promise value to make it available to the next\n",
              "    // step of the generator.\n",
              "    outputElement.lastPromiseValue = value;\n",
              "    return next.value.response;\n",
              "  });\n",
              "}\n",
              "\n",
              "/**\n",
              " * Generator function which is called between each async step of the upload\n",
              " * process.\n",
              " * @param {string} inputId Element ID of the input file picker element.\n",
              " * @param {string} outputId Element ID of the output display.\n",
              " * @return {!Iterable<!Object>} Iterable of next steps.\n",
              " */\n",
              "function* uploadFilesStep(inputId, outputId) {\n",
              "  const inputElement = document.getElementById(inputId);\n",
              "  inputElement.disabled = false;\n",
              "\n",
              "  const outputElement = document.getElementById(outputId);\n",
              "  outputElement.innerHTML = '';\n",
              "\n",
              "  const pickedPromise = new Promise((resolve) => {\n",
              "    inputElement.addEventListener('change', (e) => {\n",
              "      resolve(e.target.files);\n",
              "    });\n",
              "  });\n",
              "\n",
              "  const cancel = document.createElement('button');\n",
              "  inputElement.parentElement.appendChild(cancel);\n",
              "  cancel.textContent = 'Cancel upload';\n",
              "  const cancelPromise = new Promise((resolve) => {\n",
              "    cancel.onclick = () => {\n",
              "      resolve(null);\n",
              "    };\n",
              "  });\n",
              "\n",
              "  // Wait for the user to pick the files.\n",
              "  const files = yield {\n",
              "    promise: Promise.race([pickedPromise, cancelPromise]),\n",
              "    response: {\n",
              "      action: 'starting',\n",
              "    }\n",
              "  };\n",
              "\n",
              "  cancel.remove();\n",
              "\n",
              "  // Disable the input element since further picks are not allowed.\n",
              "  inputElement.disabled = true;\n",
              "\n",
              "  if (!files) {\n",
              "    return {\n",
              "      response: {\n",
              "        action: 'complete',\n",
              "      }\n",
              "    };\n",
              "  }\n",
              "\n",
              "  for (const file of files) {\n",
              "    const li = document.createElement('li');\n",
              "    li.append(span(file.name, {fontWeight: 'bold'}));\n",
              "    li.append(span(\n",
              "        `(${file.type || 'n/a'}) - ${file.size} bytes, ` +\n",
              "        `last modified: ${\n",
              "            file.lastModifiedDate ? file.lastModifiedDate.toLocaleDateString() :\n",
              "                                    'n/a'} - `));\n",
              "    const percent = span('0% done');\n",
              "    li.appendChild(percent);\n",
              "\n",
              "    outputElement.appendChild(li);\n",
              "\n",
              "    const fileDataPromise = new Promise((resolve) => {\n",
              "      const reader = new FileReader();\n",
              "      reader.onload = (e) => {\n",
              "        resolve(e.target.result);\n",
              "      };\n",
              "      reader.readAsArrayBuffer(file);\n",
              "    });\n",
              "    // Wait for the data to be ready.\n",
              "    let fileData = yield {\n",
              "      promise: fileDataPromise,\n",
              "      response: {\n",
              "        action: 'continue',\n",
              "      }\n",
              "    };\n",
              "\n",
              "    // Use a chunked sending to avoid message size limits. See b/62115660.\n",
              "    let position = 0;\n",
              "    do {\n",
              "      const length = Math.min(fileData.byteLength - position, MAX_PAYLOAD_SIZE);\n",
              "      const chunk = new Uint8Array(fileData, position, length);\n",
              "      position += length;\n",
              "\n",
              "      const base64 = btoa(String.fromCharCode.apply(null, chunk));\n",
              "      yield {\n",
              "        response: {\n",
              "          action: 'append',\n",
              "          file: file.name,\n",
              "          data: base64,\n",
              "        },\n",
              "      };\n",
              "\n",
              "      let percentDone = fileData.byteLength === 0 ?\n",
              "          100 :\n",
              "          Math.round((position / fileData.byteLength) * 100);\n",
              "      percent.textContent = `${percentDone}% done`;\n",
              "\n",
              "    } while (position < fileData.byteLength);\n",
              "  }\n",
              "\n",
              "  // All done.\n",
              "  yield {\n",
              "    response: {\n",
              "      action: 'complete',\n",
              "    }\n",
              "  };\n",
              "}\n",
              "\n",
              "scope.google = scope.google || {};\n",
              "scope.google.colab = scope.google.colab || {};\n",
              "scope.google.colab._files = {\n",
              "  _uploadFiles,\n",
              "  _uploadFilesContinue,\n",
              "};\n",
              "})(self);\n",
              "</script> "
            ]
          },
          "metadata": {}
        }
      ]
    },
    {
      "cell_type": "markdown",
      "id": "4018c6ca",
      "metadata": {
        "id": "4018c6ca"
      },
      "source": [
        "### **Creating the SFT/policy model for human Evaluation**"
      ]
    },
    {
      "cell_type": "markdown",
      "source": [
        "#### **Load the dataset**"
      ],
      "metadata": {
        "id": "R1-mtTvu9l6l"
      },
      "id": "R1-mtTvu9l6l"
    },
    {
      "cell_type": "code",
      "execution_count": 6,
      "id": "f90da8c2",
      "metadata": {
        "id": "f90da8c2"
      },
      "outputs": [],
      "source": [
        "df = pd.read_parquet(\"data/test.parquet\")"
      ]
    },
    {
      "cell_type": "code",
      "source": [
        "df.head()"
      ],
      "metadata": {
        "colab": {
          "base_uri": "https://localhost:8080/",
          "height": 206
        },
        "id": "XwtgsRXO-MrU",
        "outputId": "582e9275-2209-4b2f-8b4f-7c3255f39275"
      },
      "id": "XwtgsRXO-MrU",
      "execution_count": 7,
      "outputs": [
        {
          "output_type": "execute_result",
          "data": {
            "text/plain": [
              "                                              prompt  \\\n",
              "0  SUBREDDIT: r/relationships\\nTITLE: Me [19 F] w...   \n",
              "1  SUBREDDIT: r/Parenting\\nTITLE: My 11 year old ...   \n",
              "2  SUBREDDIT: r/relationships\\nTITLE: The girl [2...   \n",
              "3  SUBREDDIT: r/tifu\\nTITLE: TIFU by accidently k...   \n",
              "4  SUBREDDIT: r/relationships\\nTITLE: I [32 M] fo...   \n",
              "\n",
              "                                               label  \n",
              "0  I really like this guy, but after having sex w...  \n",
              "1  Sons good friend died and his funeral is today...  \n",
              "2  Girl I'm seeing didn't respond to my texts whi...  \n",
              "3  Tried to stop an old lady falling, kicked her ...  \n",
              "4  Wife Cheats on me but I stuck around for kids....  "
            ],
            "text/html": [
              "\n",
              "  <div id=\"df-f8238e04-e875-42cf-90b0-6a166ed9ab35\" class=\"colab-df-container\">\n",
              "    <div>\n",
              "<style scoped>\n",
              "    .dataframe tbody tr th:only-of-type {\n",
              "        vertical-align: middle;\n",
              "    }\n",
              "\n",
              "    .dataframe tbody tr th {\n",
              "        vertical-align: top;\n",
              "    }\n",
              "\n",
              "    .dataframe thead th {\n",
              "        text-align: right;\n",
              "    }\n",
              "</style>\n",
              "<table border=\"1\" class=\"dataframe\">\n",
              "  <thead>\n",
              "    <tr style=\"text-align: right;\">\n",
              "      <th></th>\n",
              "      <th>prompt</th>\n",
              "      <th>label</th>\n",
              "    </tr>\n",
              "  </thead>\n",
              "  <tbody>\n",
              "    <tr>\n",
              "      <th>0</th>\n",
              "      <td>SUBREDDIT: r/relationships\\nTITLE: Me [19 F] w...</td>\n",
              "      <td>I really like this guy, but after having sex w...</td>\n",
              "    </tr>\n",
              "    <tr>\n",
              "      <th>1</th>\n",
              "      <td>SUBREDDIT: r/Parenting\\nTITLE: My 11 year old ...</td>\n",
              "      <td>Sons good friend died and his funeral is today...</td>\n",
              "    </tr>\n",
              "    <tr>\n",
              "      <th>2</th>\n",
              "      <td>SUBREDDIT: r/relationships\\nTITLE: The girl [2...</td>\n",
              "      <td>Girl I'm seeing didn't respond to my texts whi...</td>\n",
              "    </tr>\n",
              "    <tr>\n",
              "      <th>3</th>\n",
              "      <td>SUBREDDIT: r/tifu\\nTITLE: TIFU by accidently k...</td>\n",
              "      <td>Tried to stop an old lady falling, kicked her ...</td>\n",
              "    </tr>\n",
              "    <tr>\n",
              "      <th>4</th>\n",
              "      <td>SUBREDDIT: r/relationships\\nTITLE: I [32 M] fo...</td>\n",
              "      <td>Wife Cheats on me but I stuck around for kids....</td>\n",
              "    </tr>\n",
              "  </tbody>\n",
              "</table>\n",
              "</div>\n",
              "    <div class=\"colab-df-buttons\">\n",
              "\n",
              "  <div class=\"colab-df-container\">\n",
              "    <button class=\"colab-df-convert\" onclick=\"convertToInteractive('df-f8238e04-e875-42cf-90b0-6a166ed9ab35')\"\n",
              "            title=\"Convert this dataframe to an interactive table.\"\n",
              "            style=\"display:none;\">\n",
              "\n",
              "  <svg xmlns=\"http://www.w3.org/2000/svg\" height=\"24px\" viewBox=\"0 -960 960 960\">\n",
              "    <path d=\"M120-120v-720h720v720H120Zm60-500h600v-160H180v160Zm220 220h160v-160H400v160Zm0 220h160v-160H400v160ZM180-400h160v-160H180v160Zm440 0h160v-160H620v160ZM180-180h160v-160H180v160Zm440 0h160v-160H620v160Z\"/>\n",
              "  </svg>\n",
              "    </button>\n",
              "\n",
              "  <style>\n",
              "    .colab-df-container {\n",
              "      display:flex;\n",
              "      gap: 12px;\n",
              "    }\n",
              "\n",
              "    .colab-df-convert {\n",
              "      background-color: #E8F0FE;\n",
              "      border: none;\n",
              "      border-radius: 50%;\n",
              "      cursor: pointer;\n",
              "      display: none;\n",
              "      fill: #1967D2;\n",
              "      height: 32px;\n",
              "      padding: 0 0 0 0;\n",
              "      width: 32px;\n",
              "    }\n",
              "\n",
              "    .colab-df-convert:hover {\n",
              "      background-color: #E2EBFA;\n",
              "      box-shadow: 0px 1px 2px rgba(60, 64, 67, 0.3), 0px 1px 3px 1px rgba(60, 64, 67, 0.15);\n",
              "      fill: #174EA6;\n",
              "    }\n",
              "\n",
              "    .colab-df-buttons div {\n",
              "      margin-bottom: 4px;\n",
              "    }\n",
              "\n",
              "    [theme=dark] .colab-df-convert {\n",
              "      background-color: #3B4455;\n",
              "      fill: #D2E3FC;\n",
              "    }\n",
              "\n",
              "    [theme=dark] .colab-df-convert:hover {\n",
              "      background-color: #434B5C;\n",
              "      box-shadow: 0px 1px 3px 1px rgba(0, 0, 0, 0.15);\n",
              "      filter: drop-shadow(0px 1px 2px rgba(0, 0, 0, 0.3));\n",
              "      fill: #FFFFFF;\n",
              "    }\n",
              "  </style>\n",
              "\n",
              "    <script>\n",
              "      const buttonEl =\n",
              "        document.querySelector('#df-f8238e04-e875-42cf-90b0-6a166ed9ab35 button.colab-df-convert');\n",
              "      buttonEl.style.display =\n",
              "        google.colab.kernel.accessAllowed ? 'block' : 'none';\n",
              "\n",
              "      async function convertToInteractive(key) {\n",
              "        const element = document.querySelector('#df-f8238e04-e875-42cf-90b0-6a166ed9ab35');\n",
              "        const dataTable =\n",
              "          await google.colab.kernel.invokeFunction('convertToInteractive',\n",
              "                                                    [key], {});\n",
              "        if (!dataTable) return;\n",
              "\n",
              "        const docLinkHtml = 'Like what you see? Visit the ' +\n",
              "          '<a target=\"_blank\" href=https://colab.research.google.com/notebooks/data_table.ipynb>data table notebook</a>'\n",
              "          + ' to learn more about interactive tables.';\n",
              "        element.innerHTML = '';\n",
              "        dataTable['output_type'] = 'display_data';\n",
              "        await google.colab.output.renderOutput(dataTable, element);\n",
              "        const docLink = document.createElement('div');\n",
              "        docLink.innerHTML = docLinkHtml;\n",
              "        element.appendChild(docLink);\n",
              "      }\n",
              "    </script>\n",
              "  </div>\n",
              "\n",
              "\n",
              "<div id=\"df-9f19047f-7277-4eea-87d4-988361bb62ef\">\n",
              "  <button class=\"colab-df-quickchart\" onclick=\"quickchart('df-9f19047f-7277-4eea-87d4-988361bb62ef')\"\n",
              "            title=\"Suggest charts.\"\n",
              "            style=\"display:none;\">\n",
              "\n",
              "<svg xmlns=\"http://www.w3.org/2000/svg\" height=\"24px\"viewBox=\"0 0 24 24\"\n",
              "     width=\"24px\">\n",
              "    <g>\n",
              "        <path d=\"M19 3H5c-1.1 0-2 .9-2 2v14c0 1.1.9 2 2 2h14c1.1 0 2-.9 2-2V5c0-1.1-.9-2-2-2zM9 17H7v-7h2v7zm4 0h-2V7h2v10zm4 0h-2v-4h2v4z\"/>\n",
              "    </g>\n",
              "</svg>\n",
              "  </button>\n",
              "\n",
              "<style>\n",
              "  .colab-df-quickchart {\n",
              "    background-color: #E8F0FE;\n",
              "    border: none;\n",
              "    border-radius: 50%;\n",
              "    cursor: pointer;\n",
              "    display: none;\n",
              "    fill: #1967D2;\n",
              "    height: 32px;\n",
              "    padding: 0 0 0 0;\n",
              "    width: 32px;\n",
              "  }\n",
              "\n",
              "  .colab-df-quickchart:hover {\n",
              "    background-color: #E2EBFA;\n",
              "    box-shadow: 0px 1px 2px rgba(60, 64, 67, 0.3), 0px 1px 3px 1px rgba(60, 64, 67, 0.15);\n",
              "    fill: #174EA6;\n",
              "  }\n",
              "\n",
              "  [theme=dark] .colab-df-quickchart {\n",
              "    background-color: #3B4455;\n",
              "    fill: #D2E3FC;\n",
              "  }\n",
              "\n",
              "  [theme=dark] .colab-df-quickchart:hover {\n",
              "    background-color: #434B5C;\n",
              "    box-shadow: 0px 1px 3px 1px rgba(0, 0, 0, 0.15);\n",
              "    filter: drop-shadow(0px 1px 2px rgba(0, 0, 0, 0.3));\n",
              "    fill: #FFFFFF;\n",
              "  }\n",
              "</style>\n",
              "\n",
              "  <script>\n",
              "    async function quickchart(key) {\n",
              "      const charts = await google.colab.kernel.invokeFunction(\n",
              "          'suggestCharts', [key], {});\n",
              "    }\n",
              "    (() => {\n",
              "      let quickchartButtonEl =\n",
              "        document.querySelector('#df-9f19047f-7277-4eea-87d4-988361bb62ef button');\n",
              "      quickchartButtonEl.style.display =\n",
              "        google.colab.kernel.accessAllowed ? 'block' : 'none';\n",
              "    })();\n",
              "  </script>\n",
              "</div>\n",
              "    </div>\n",
              "  </div>\n"
            ]
          },
          "metadata": {},
          "execution_count": 7
        }
      ]
    },
    {
      "cell_type": "code",
      "execution_count": 8,
      "id": "b00044d2",
      "metadata": {
        "id": "b00044d2",
        "outputId": "e83cbc4d-172d-4356-eaa6-6795e7389fd8",
        "colab": {
          "base_uri": "https://localhost:8080/"
        }
      },
      "outputs": [
        {
          "output_type": "execute_result",
          "data": {
            "text/plain": [
              "prompt    SUBREDDIT: r/Parenting\\nTITLE: My 11 year old ...\n",
              "label     Sons good friend died and his funeral is today...\n",
              "Name: 1, dtype: object"
            ]
          },
          "metadata": {},
          "execution_count": 8
        }
      ],
      "source": [
        "df.iloc[1]"
      ]
    },
    {
      "cell_type": "markdown",
      "source": [
        "#### **Create the data loader**"
      ],
      "metadata": {
        "id": "y-LJoO45-gt3"
      },
      "id": "y-LJoO45-gt3"
    },
    {
      "cell_type": "code",
      "execution_count": 9,
      "id": "0670ff5e",
      "metadata": {
        "id": "0670ff5e"
      },
      "outputs": [],
      "source": [
        "class TLDRDataset(Dataset):\n",
        "    def __init__(self, train_path, tokenizer, split, max_length):\n",
        "        self.post_list = []\n",
        "        dataset = pd.read_parquet(train_path)\n",
        "        self.labels = []\n",
        "        # dataset = dataset[:100]\n",
        "        for sample in dataset.iterrows():\n",
        "            self.post_list.append(sample[1][\"prompt\"])\n",
        "            self.labels.append(sample[1][\"label\"])\n",
        "\n",
        "        self.tokenizer = tokenizer\n",
        "        self.max_length = max_length\n",
        "        self.input_ids = []\n",
        "        self.attn_masks = []\n",
        "\n",
        "    def __len__(self):\n",
        "        return len(self.post_list)\n",
        "\n",
        "    def __getitem__(self, idx):\n",
        "        txt = self.post_list[idx]\n",
        "        label = self.labels[idx]\n",
        "\n",
        "        encodings_dict = self.tokenizer(txt, truncation=True, max_length=self.max_length, padding=\"max_length\")\n",
        "        encodings_dict_label = self.tokenizer(label,truncation=True, max_length=self.max_length, padding=\"max_length\")\n",
        "        input_ids = torch.tensor(encodings_dict[\"input_ids\"])\n",
        "        attn_masks = torch.tensor(encodings_dict[\"attention_mask\"])\n",
        "        labels_ids = torch.tensor(encodings_dict_label[\"input_ids\"])\n",
        "        return {\n",
        "            \"input_ids\": input_ids,\n",
        "            \"attention_mask\": attn_masks,\n",
        "            \"labels\": labels_ids,\n",
        "        }"
      ]
    },
    {
      "cell_type": "code",
      "execution_count": 10,
      "id": "7f0a73ab",
      "metadata": {
        "id": "7f0a73ab"
      },
      "outputs": [],
      "source": [
        "INITIAL_MODEL_PATH = \"bigcode/tiny_starcoder_py\"\n",
        "\n",
        "model = AutoModelForCausalLM.from_pretrained(INITIAL_MODEL_PATH, use_cache=False).to(\"cuda:0\")\n",
        "tokenizer = AutoTokenizer.from_pretrained(INITIAL_MODEL_PATH)\n",
        "tokenizer.pad_token = tokenizer.eos_token\n",
        "# model.resize_token_embeddings(len(tokenizer))\n",
        "# tokenizer.pad_token_id = tokenizer.eos_token_id\n",
        "# model.config.end_token_id = tokenizer.eos_token_id\n",
        "# model.config.pad_token_id = model.config.eos_token_id"
      ]
    },
    {
      "cell_type": "code",
      "execution_count": 11,
      "id": "dbc6aad5",
      "metadata": {
        "id": "dbc6aad5"
      },
      "outputs": [],
      "source": [
        "# Set up the datasets\n",
        "data_path = \"data/test.parquet\"\n",
        "train_dataset = TLDRDataset(data_path, tokenizer, \"train\", max_length=max_input_length)\n",
        "\n",
        "# dev_dataset = TLDRDataset(data_path, tokenizer,\"valid\", max_length=max_input_length)\n"
      ]
    },
    {
      "cell_type": "code",
      "execution_count": 12,
      "id": "f16a19aa",
      "metadata": {
        "id": "f16a19aa",
        "outputId": "ac8429d6-a2fd-4f5d-cf49-7863a26f3645",
        "colab": {
          "base_uri": "https://localhost:8080/"
        }
      },
      "outputs": [
        {
          "output_type": "stream",
          "name": "stdout",
          "text": [
            "tensor([ 7100,   613,  2918,   780,    44,   540,    33, 40186,   203, 13777,\n",
            "           44,  3110,   428,    35,    43,   506,    79,   623,  1672, 11970,\n",
            "          428,    35,    43,   488,   614,   646,  3654,   415,   439,  1631,\n",
            "         1159, 16661,  1246,  6366,   973,  3425,    32,   203,  3705,    44,\n",
            "        12000, 17964,  3638,  1548,    32,   439,  9845,   458,  7735,  1330,\n",
            "         5133, 31695,   432,   312,  7000,   372,  7660,   544,  2442,    30,\n",
            "         1273,   439,  4763,  2583, 42289,   312,  3493,   963,   432,  1672,\n",
            "         7713,  1412,   561, 12767,   372,   458, 18734,   308,    59,  4763,\n",
            "         5054,  1755,  1591, 12112,  2670,    30,   461,   436,  5075, 17510,\n",
            "           30,   561,  1597,   963,   432,   322, 48385,   547,   203,   203,\n",
            "         7558,   395,    19,  2770,    30,   312, 17142,   432, 22599, 14818,\n",
            "           30,   439,  7307, 29220,   372,   458,  3932,   107,   544, 18660,\n",
            "           30,  3919,   312,  9525,  2350,   688,   996,  4528,  4335,  1742,\n",
            "          432,    32,   439, 10889,   938,  1597,  3844,   432,   281,  1142,\n",
            "           30,  1259,   439,  4618, 10320,   312,  9396,  2258,   372, 12440,\n",
            "           30,  5774,    30,  5774,    32,  2688,  4484,  4335,  8872, 16512,\n",
            "          821,   322,  2432, 19076,    30,  1259,   439, 39271,   688,   996,\n",
            "         3065, 23840, 18450,   328,  4916,  5049,   996,  4335, 13639,   544,\n",
            "           31, 16033,   352,    32,  2770,    30,   996,  4142,    30,   461,\n",
            "          996,   420,  3280,   963,  8762, 19465,    30,  2258,   619, 22523,\n",
            "           32,   203,   203,  7558,   395,    32,  2770,    30,  8989,   438,\n",
            "         6783, 10191,  4487,    32,  2688, 12440,  2288, 18660,   461, 46438,\n",
            "         6172,    30, 17013,    32,  2770,    30,   358, 30288, 19212,    30,\n",
            "          439,  1597,  2258,   420,  7398,   963,   623,  7024,   461,  6186,\n",
            "          432,  3998,   323, 12837,    30,  1412,   439,  5424,   312, 46438,\n",
            "         6172,   645, 10320, 24240,  2769,   439]) tensor([   59,  6394,  2124,   458,  3932,   107,    30,  1273,  2685,  7696,\n",
            "        27082,   623, 10320,  2685,  1755, 44470, 10320,   436,   312,  5029,\n",
            "        25585,  7918,   432,  1133,    30,   439,  3860, 22958, 14051,   688,\n",
            "          439,  1631,  1159, 17090,  1441,  1672,   663,  3151,   432,   312,\n",
            "        12112,   623, 10320,    32,     0,     0,     0,     0,     0,     0,\n",
            "            0,     0,     0,     0,     0,     0,     0,     0,     0,     0,\n",
            "            0,     0,     0,     0,     0,     0,     0,     0,     0,     0,\n",
            "            0,     0,     0,     0,     0,     0,     0,     0,     0,     0,\n",
            "            0,     0,     0,     0,     0,     0,     0,     0,     0,     0,\n",
            "            0,     0,     0,     0,     0,     0,     0,     0,     0,     0,\n",
            "            0,     0,     0,     0,     0,     0,     0,     0,     0,     0,\n",
            "            0,     0,     0,     0,     0,     0,     0,     0,     0,     0,\n",
            "            0,     0,     0,     0,     0,     0,     0,     0,     0,     0,\n",
            "            0,     0,     0,     0,     0,     0,     0,     0,     0,     0,\n",
            "            0,     0,     0,     0,     0,     0,     0,     0,     0,     0,\n",
            "            0,     0,     0,     0,     0,     0,     0,     0,     0,     0,\n",
            "            0,     0,     0,     0,     0,     0,     0,     0,     0,     0,\n",
            "            0,     0,     0,     0,     0,     0,     0,     0,     0,     0,\n",
            "            0,     0,     0,     0,     0,     0,     0,     0,     0,     0,\n",
            "            0,     0,     0,     0,     0,     0,     0,     0,     0,     0,\n",
            "            0,     0,     0,     0,     0,     0,     0,     0,     0,     0,\n",
            "            0,     0,     0,     0,     0,     0,     0,     0,     0,     0,\n",
            "            0,     0,     0,     0,     0,     0,     0,     0,     0,     0,\n",
            "            0,     0,     0,     0,     0,     0,     0,     0,     0,     0,\n",
            "            0,     0,     0,     0,     0,     0,     0,     0,     0,     0,\n",
            "            0,     0,     0,     0,     0,     0])\n"
          ]
        }
      ],
      "source": [
        "for i in train_dataset:\n",
        "    print(i[\"input_ids\"], i[\"labels\"])\n",
        "    break"
      ]
    },
    {
      "cell_type": "code",
      "execution_count": 13,
      "id": "af9d597d",
      "metadata": {
        "id": "af9d597d"
      },
      "outputs": [],
      "source": [
        "# def compute_metrics(eval_preds):\n",
        "#     labels_ids = eval_preds.label_ids\n",
        "#     pred_ids = eval_preds.predictions\n",
        "#     pred_str = tokenizer.batch_decode(pred_ids, skip_special_tokens=True)\n",
        "#     label_str = tokenizer.batch_decode(labels_ids, skip_special_tokens=True)\n",
        "#     result = rouge.compute(predictions=pred_str, references=label_str)\n",
        "#     return result"
      ]
    },
    {
      "cell_type": "code",
      "execution_count": 14,
      "id": "8660464d",
      "metadata": {
        "id": "8660464d"
      },
      "outputs": [],
      "source": [
        "# # Create a preprocessing function to extract out the proper logits from the model output\n",
        "# def preprocess_logits_for_metrics(logits, labels):\n",
        "#     if isinstance(logits, tuple):\n",
        "#         logits = logits[0]\n",
        "#     return logits.argmax(dim=-1)"
      ]
    },
    {
      "cell_type": "code",
      "execution_count": 15,
      "id": "500301ac",
      "metadata": {
        "id": "500301ac"
      },
      "outputs": [],
      "source": [
        "torch.cuda.set_device(0)"
      ]
    },
    {
      "cell_type": "code",
      "execution_count": 16,
      "id": "d3801788",
      "metadata": {
        "id": "d3801788"
      },
      "outputs": [],
      "source": [
        "# Prepare the trainer and start training\n",
        "training_args = TrainingArguments(\n",
        "    output_dir=\"supervised-finetuned-model-checkpoint/\",\n",
        "    learning_rate=1e-5,\n",
        "    per_device_train_batch_size=16,\n",
        "#   per_device_eval_batch_size=1,\n",
        "    fp16=False,\n",
        "    gradient_accumulation_steps=1,\n",
        "    num_train_epochs=1,\n",
        "    warmup_steps=100,\n",
        "    logging_steps=10,\n",
        ")"
      ]
    },
    {
      "cell_type": "code",
      "execution_count": 17,
      "id": "baefacaf",
      "metadata": {
        "id": "baefacaf",
        "outputId": "3021fbe7-053f-42ef-9ec0-8fa36bc1e4e4",
        "colab": {
          "base_uri": "https://localhost:8080/"
        }
      },
      "outputs": [
        {
          "output_type": "execute_result",
          "data": {
            "text/plain": [
              "0"
            ]
          },
          "metadata": {},
          "execution_count": 17
        }
      ],
      "source": [
        "training_args.device.index"
      ]
    },
    {
      "cell_type": "code",
      "execution_count": 18,
      "id": "90ba4710",
      "metadata": {
        "id": "90ba4710",
        "outputId": "75a4bbdc-dd6a-4411-a503-cf9e79c5129d",
        "colab": {
          "base_uri": "https://localhost:8080/",
          "height": 1000
        }
      },
      "outputs": [
        {
          "output_type": "display_data",
          "data": {
            "text/plain": [
              "<IPython.core.display.HTML object>"
            ],
            "text/html": [
              "\n",
              "    <div>\n",
              "      \n",
              "      <progress value='410' max='410' style='width:300px; height:20px; vertical-align: middle;'></progress>\n",
              "      [410/410 09:20, Epoch 1/1]\n",
              "    </div>\n",
              "    <table border=\"1\" class=\"dataframe\">\n",
              "  <thead>\n",
              " <tr style=\"text-align: left;\">\n",
              "      <th>Step</th>\n",
              "      <th>Training Loss</th>\n",
              "    </tr>\n",
              "  </thead>\n",
              "  <tbody>\n",
              "    <tr>\n",
              "      <td>10</td>\n",
              "      <td>10.188400</td>\n",
              "    </tr>\n",
              "    <tr>\n",
              "      <td>20</td>\n",
              "      <td>6.580500</td>\n",
              "    </tr>\n",
              "    <tr>\n",
              "      <td>30</td>\n",
              "      <td>2.587400</td>\n",
              "    </tr>\n",
              "    <tr>\n",
              "      <td>40</td>\n",
              "      <td>1.480900</td>\n",
              "    </tr>\n",
              "    <tr>\n",
              "      <td>50</td>\n",
              "      <td>1.194700</td>\n",
              "    </tr>\n",
              "    <tr>\n",
              "      <td>60</td>\n",
              "      <td>1.041800</td>\n",
              "    </tr>\n",
              "    <tr>\n",
              "      <td>70</td>\n",
              "      <td>1.044000</td>\n",
              "    </tr>\n",
              "    <tr>\n",
              "      <td>80</td>\n",
              "      <td>0.993800</td>\n",
              "    </tr>\n",
              "    <tr>\n",
              "      <td>90</td>\n",
              "      <td>1.014500</td>\n",
              "    </tr>\n",
              "    <tr>\n",
              "      <td>100</td>\n",
              "      <td>1.025400</td>\n",
              "    </tr>\n",
              "    <tr>\n",
              "      <td>110</td>\n",
              "      <td>0.957800</td>\n",
              "    </tr>\n",
              "    <tr>\n",
              "      <td>120</td>\n",
              "      <td>0.999800</td>\n",
              "    </tr>\n",
              "    <tr>\n",
              "      <td>130</td>\n",
              "      <td>0.967000</td>\n",
              "    </tr>\n",
              "    <tr>\n",
              "      <td>140</td>\n",
              "      <td>0.955300</td>\n",
              "    </tr>\n",
              "    <tr>\n",
              "      <td>150</td>\n",
              "      <td>0.973200</td>\n",
              "    </tr>\n",
              "    <tr>\n",
              "      <td>160</td>\n",
              "      <td>0.973200</td>\n",
              "    </tr>\n",
              "    <tr>\n",
              "      <td>170</td>\n",
              "      <td>0.967700</td>\n",
              "    </tr>\n",
              "    <tr>\n",
              "      <td>180</td>\n",
              "      <td>0.954200</td>\n",
              "    </tr>\n",
              "    <tr>\n",
              "      <td>190</td>\n",
              "      <td>0.975500</td>\n",
              "    </tr>\n",
              "    <tr>\n",
              "      <td>200</td>\n",
              "      <td>0.972300</td>\n",
              "    </tr>\n",
              "    <tr>\n",
              "      <td>210</td>\n",
              "      <td>0.988100</td>\n",
              "    </tr>\n",
              "    <tr>\n",
              "      <td>220</td>\n",
              "      <td>0.975500</td>\n",
              "    </tr>\n",
              "    <tr>\n",
              "      <td>230</td>\n",
              "      <td>0.942000</td>\n",
              "    </tr>\n",
              "    <tr>\n",
              "      <td>240</td>\n",
              "      <td>0.977700</td>\n",
              "    </tr>\n",
              "    <tr>\n",
              "      <td>250</td>\n",
              "      <td>0.962600</td>\n",
              "    </tr>\n",
              "    <tr>\n",
              "      <td>260</td>\n",
              "      <td>0.976000</td>\n",
              "    </tr>\n",
              "    <tr>\n",
              "      <td>270</td>\n",
              "      <td>0.939500</td>\n",
              "    </tr>\n",
              "    <tr>\n",
              "      <td>280</td>\n",
              "      <td>0.977100</td>\n",
              "    </tr>\n",
              "    <tr>\n",
              "      <td>290</td>\n",
              "      <td>0.942600</td>\n",
              "    </tr>\n",
              "    <tr>\n",
              "      <td>300</td>\n",
              "      <td>0.985400</td>\n",
              "    </tr>\n",
              "    <tr>\n",
              "      <td>310</td>\n",
              "      <td>0.955200</td>\n",
              "    </tr>\n",
              "    <tr>\n",
              "      <td>320</td>\n",
              "      <td>0.979000</td>\n",
              "    </tr>\n",
              "    <tr>\n",
              "      <td>330</td>\n",
              "      <td>0.957400</td>\n",
              "    </tr>\n",
              "    <tr>\n",
              "      <td>340</td>\n",
              "      <td>0.969200</td>\n",
              "    </tr>\n",
              "    <tr>\n",
              "      <td>350</td>\n",
              "      <td>1.006700</td>\n",
              "    </tr>\n",
              "    <tr>\n",
              "      <td>360</td>\n",
              "      <td>0.967400</td>\n",
              "    </tr>\n",
              "    <tr>\n",
              "      <td>370</td>\n",
              "      <td>0.967600</td>\n",
              "    </tr>\n",
              "    <tr>\n",
              "      <td>380</td>\n",
              "      <td>0.944400</td>\n",
              "    </tr>\n",
              "    <tr>\n",
              "      <td>390</td>\n",
              "      <td>0.979100</td>\n",
              "    </tr>\n",
              "    <tr>\n",
              "      <td>400</td>\n",
              "      <td>0.959300</td>\n",
              "    </tr>\n",
              "    <tr>\n",
              "      <td>410</td>\n",
              "      <td>1.007900</td>\n",
              "    </tr>\n",
              "  </tbody>\n",
              "</table><p>"
            ]
          },
          "metadata": {}
        },
        {
          "output_type": "execute_result",
          "data": {
            "text/plain": [
              "TrainOutput(global_step=410, training_loss=1.3952962270597131, metrics={'train_runtime': 562.6274, 'train_samples_per_second': 11.647, 'train_steps_per_second': 0.729, 'total_flos': 1208895118245888.0, 'train_loss': 1.3952962270597131, 'epoch': 1.0})"
            ]
          },
          "metadata": {},
          "execution_count": 18
        }
      ],
      "source": [
        "trainer = Trainer(\n",
        "    model=model,\n",
        "    args=training_args,\n",
        "    train_dataset=train_dataset,\n",
        "    # compute_metrics=compute_metrics,\n",
        "    # data_collator=default_data_collator,\n",
        "    # preprocess_logits_for_metrics=preprocess_logits_for_metrics\n",
        ")\n",
        "trainer.train()"
      ]
    },
    {
      "cell_type": "code",
      "execution_count": 19,
      "id": "3dfc50c2",
      "metadata": {
        "id": "3dfc50c2"
      },
      "outputs": [],
      "source": [
        "trainer.save_model(\"sft_model/\")"
      ]
    },
    {
      "cell_type": "code",
      "execution_count": 20,
      "id": "b0508cfc",
      "metadata": {
        "id": "b0508cfc"
      },
      "outputs": [],
      "source": [
        "## inference the model\n",
        "# model = AutoModelForCausalLM.from_pretrained(\"sft_model/\")\n",
        "# text = df.iloc[1][\"prompt\"] + df.iloc[1][\"label\"]\n",
        "# tokenized_text = tokenizer(text)\n",
        "# with torch.no_grad():\n",
        "#     output_tensor = model(\n",
        "#                           input_ids= torch.tensor(tokenized_text[\"input_ids\"]),\n",
        "#                           attention_mask= torch.tensor(tokenized_text[\"attention_mask\"]))"
      ]
    },
    {
      "cell_type": "code",
      "execution_count": 21,
      "id": "9a1dfaa5",
      "metadata": {
        "id": "9a1dfaa5"
      },
      "outputs": [],
      "source": [
        "# tokenizer.decode(torch.argmax(output_tensor.logits, axis=-1))"
      ]
    },
    {
      "cell_type": "code",
      "execution_count": 22,
      "id": "b6675e87",
      "metadata": {
        "id": "b6675e87"
      },
      "outputs": [],
      "source": [
        "# print(text)"
      ]
    },
    {
      "cell_type": "code",
      "execution_count": 23,
      "id": "30077e47",
      "metadata": {
        "id": "30077e47"
      },
      "outputs": [],
      "source": [
        "# df.iloc[1][\"label\"]"
      ]
    },
    {
      "cell_type": "markdown",
      "id": "8421708e",
      "metadata": {
        "id": "8421708e"
      },
      "source": [
        "### **Traning the reward function**"
      ]
    },
    {
      "cell_type": "code",
      "execution_count": 24,
      "id": "14ddb7e5",
      "metadata": {
        "id": "14ddb7e5",
        "outputId": "e2146d7f-8a49-452f-b1ea-ccbb44102727",
        "colab": {
          "base_uri": "https://localhost:8080/"
        }
      },
      "outputs": [
        {
          "output_type": "execute_result",
          "data": {
            "text/plain": [
              "Dataset({\n",
              "    features: ['prompt', 'chosen', 'rejected'],\n",
              "    num_rows: 10\n",
              "})"
            ]
          },
          "metadata": {},
          "execution_count": 24
        }
      ],
      "source": [
        "from datasets import Dataset, load_dataset\n",
        "\n",
        "df = pd.read_parquet(\"data/test_reward.parquet\")\n",
        "df = df[:10]\n",
        "raw_dataset = Dataset.from_pandas(df)\n",
        "raw_dataset"
      ]
    },
    {
      "cell_type": "code",
      "execution_count": 25,
      "id": "2209d915",
      "metadata": {
        "id": "2209d915"
      },
      "outputs": [],
      "source": [
        "##defininig the model and tokenizer\n",
        "tokenizer = AutoTokenizer.from_pretrained(INITIAL_MODEL_PATH)\n",
        "model = AutoModelForCausalLM.from_pretrained(\"sft_model/\").to(\"cuda:0\")\n",
        "tokenizer.pad_token = tokenizer.eos_token\n",
        "\n",
        "# model.resize_token_embeddings(len(tokenizer))\n",
        "# tokenizer.pad_token_id = tokenizer.eos_token_id\n",
        "# model.config.end_token_id = tokenizer.eos_token_id\n",
        "# model.config.pad_token_id = model.config.eos_token_id"
      ]
    },
    {
      "cell_type": "code",
      "execution_count": 26,
      "id": "368defaa",
      "metadata": {
        "id": "368defaa"
      },
      "outputs": [],
      "source": [
        "# tokenizer.add_special_tokens({'pad_token': '[PAD]'})\n",
        "\n",
        "def formatting_func(examples):\n",
        "    kwargs = {\"padding\": \"max_length\",\n",
        "              \"truncation\": True,\n",
        "              \"max_length\": max_input_length,\n",
        "              \"return_tensors\": \"pt\"\n",
        "              }\n",
        "\n",
        "    # Prepend the prompt and a line break to the original_response and response-1 fields.\n",
        "    prompt_plus_chosen_response = examples[\"prompt\"] + \"\\n\" + examples[\"chosen\"]\n",
        "    prompt_plus_rejected_response = examples[\"prompt\"] + \"\\n\" + examples[\"rejected\"]\n",
        "\n",
        "    # Then tokenize these modified fields.\n",
        "    tokens_chosen = tokenizer.encode_plus(prompt_plus_chosen_response, **kwargs)\n",
        "    tokens_rejected = tokenizer.encode_plus(prompt_plus_rejected_response, **kwargs)\n",
        "\n",
        "    return {\n",
        "        \"input_ids_chosen\": tokens_chosen[\"input_ids\"][0], \"attention_mask_chosen\": tokens_chosen[\"attention_mask\"][0],\n",
        "        \"input_ids_rejected\": tokens_rejected[\"input_ids\"][0], \"attention_mask_rejected\": tokens_rejected[\"attention_mask\"][0]\n",
        "    }"
      ]
    },
    {
      "cell_type": "code",
      "execution_count": 27,
      "id": "0f4afbee",
      "metadata": {
        "id": "0f4afbee",
        "outputId": "9a07e8cb-36c8-4f3d-87e4-1badd45470fb",
        "colab": {
          "referenced_widgets": [
            "868403f5fc6f461c8f41139791370ee6",
            "058601ad436a4d5fbe2ae0cfc35d8f58",
            "96a5bbcd7c094080bd130592737236d3",
            "8b6d800d2aee452e86e4500841ba0600",
            "5900fa22c1ab43a4b6d0993197c3dbe4",
            "c5528692cabd4611a64ae0b3b6925c6c",
            "c1e75d53306441cebe58fd7f28130f66",
            "3a2d7ab885c5457b87968251a5b87d9e",
            "c083c9d7ce5f442895cd7ffa63525bcf",
            "a586614a344a46c4a826658a87801e1e",
            "a240efa30d3b463e840a83d9690ce84e"
          ],
          "base_uri": "https://localhost:8080/",
          "height": 49
        }
      },
      "outputs": [
        {
          "output_type": "display_data",
          "data": {
            "text/plain": [
              "Map:   0%|          | 0/10 [00:00<?, ? examples/s]"
            ],
            "application/vnd.jupyter.widget-view+json": {
              "version_major": 2,
              "version_minor": 0,
              "model_id": "868403f5fc6f461c8f41139791370ee6"
            }
          },
          "metadata": {}
        }
      ],
      "source": [
        "formatted_dataset = raw_dataset.map(formatting_func)\n",
        "formatted_dataset = formatted_dataset.train_test_split()"
      ]
    },
    {
      "cell_type": "code",
      "execution_count": 28,
      "id": "43490bac",
      "metadata": {
        "id": "43490bac",
        "outputId": "5923194d-0401-44cb-f778-89efcb37c657",
        "colab": {
          "base_uri": "https://localhost:8080/"
        }
      },
      "outputs": [
        {
          "output_type": "execute_result",
          "data": {
            "text/plain": [
              "GPTBigCodeConfig {\n",
              "  \"_name_or_path\": \"sft_model/\",\n",
              "  \"activation_function\": \"gelu_pytorch_tanh\",\n",
              "  \"architectures\": [\n",
              "    \"GPTBigCodeForCausalLM\"\n",
              "  ],\n",
              "  \"attention_softmax_in_fp32\": true,\n",
              "  \"attn_pdrop\": 0.1,\n",
              "  \"bos_token_id\": 0,\n",
              "  \"embd_pdrop\": 0.1,\n",
              "  \"eos_token_id\": 0,\n",
              "  \"inference_runner\": 0,\n",
              "  \"initializer_range\": 0.02,\n",
              "  \"layer_norm_epsilon\": 1e-05,\n",
              "  \"max_batch_size\": null,\n",
              "  \"max_sequence_length\": null,\n",
              "  \"model_type\": \"gpt_bigcode\",\n",
              "  \"multi_query\": true,\n",
              "  \"n_embd\": 768,\n",
              "  \"n_head\": 12,\n",
              "  \"n_inner\": 3072,\n",
              "  \"n_layer\": 20,\n",
              "  \"n_positions\": 8192,\n",
              "  \"pad_key_length\": true,\n",
              "  \"pre_allocate_kv_cache\": false,\n",
              "  \"resid_pdrop\": 0.1,\n",
              "  \"scale_attention_softmax_in_fp32\": true,\n",
              "  \"scale_attn_weights\": true,\n",
              "  \"summary_activation\": null,\n",
              "  \"summary_first_dropout\": 0.1,\n",
              "  \"summary_proj_to_labels\": true,\n",
              "  \"summary_type\": \"cls_index\",\n",
              "  \"summary_use_proj\": true,\n",
              "  \"torch_dtype\": \"float32\",\n",
              "  \"transformers_version\": \"4.32.0\",\n",
              "  \"use_cache\": false,\n",
              "  \"validate_runner_input\": true,\n",
              "  \"vocab_size\": 49152\n",
              "}"
            ]
          },
          "metadata": {},
          "execution_count": 28
        }
      ],
      "source": [
        "model.config"
      ]
    },
    {
      "cell_type": "code",
      "execution_count": 29,
      "id": "dce3aef6",
      "metadata": {
        "id": "dce3aef6"
      },
      "outputs": [],
      "source": [
        "### Loading the TRL reward trainer and training the trainer\n",
        "training_args = TrainingArguments(\n",
        "        output_dir=\"rm_checkpoint/\",\n",
        "        num_train_epochs=1,\n",
        "        logging_steps=10,\n",
        "        gradient_accumulation_steps=1,\n",
        "        save_strategy=\"steps\",\n",
        "        evaluation_strategy=\"steps\",\n",
        "        per_device_train_batch_size=2,\n",
        "        per_device_eval_batch_size=1,\n",
        "        eval_accumulation_steps=1,\n",
        "        eval_steps=500,\n",
        "        save_steps=500,\n",
        "        warmup_steps=100,\n",
        "        logging_dir=\"./logs\",\n",
        "        learning_rate=1e-5,\n",
        "        save_total_limit=1,\n",
        "        remove_unused_columns=False,\n",
        "        no_cuda=False\n",
        "    )"
      ]
    },
    {
      "cell_type": "code",
      "execution_count": 30,
      "id": "d06ad45a",
      "metadata": {
        "id": "d06ad45a",
        "outputId": "954a62da-8f3e-4b0c-cf2e-55a780a86b6c",
        "colab": {
          "base_uri": "https://localhost:8080/",
          "height": 205
        }
      },
      "outputs": [
        {
          "output_type": "stream",
          "name": "stderr",
          "text": [
            "/usr/local/lib/python3.10/dist-packages/trl/trainer/reward_trainer.py:123: UserWarning: When using RewardDataCollatorWithPadding, you should set `max_length` in the RewardTrainer's init it will be set to `512` by default, but you should do it yourself in the future.\n",
            "  warnings.warn(\n",
            "You're using a GPT2TokenizerFast tokenizer. Please note that with a fast tokenizer, using the `__call__` method is faster than using a method to encode the text followed by a call to the `pad` method to get a padded encoding.\n",
            "/usr/local/lib/python3.10/dist-packages/transformers/tokenization_utils_base.py:2436: UserWarning: `max_length` is ignored when `padding`=`True` and there is no truncation strategy. To pad to max length, use `padding='max_length'`.\n",
            "  warnings.warn(\n",
            "Could not estimate the number of tokens of the input, floating-point operations will not be computed\n"
          ]
        },
        {
          "output_type": "display_data",
          "data": {
            "text/plain": [
              "<IPython.core.display.HTML object>"
            ],
            "text/html": [
              "\n",
              "    <div>\n",
              "      \n",
              "      <progress value='4' max='4' style='width:300px; height:20px; vertical-align: middle;'></progress>\n",
              "      [4/4 00:01, Epoch 1/1]\n",
              "    </div>\n",
              "    <table border=\"1\" class=\"dataframe\">\n",
              "  <thead>\n",
              " <tr style=\"text-align: left;\">\n",
              "      <th>Step</th>\n",
              "      <th>Training Loss</th>\n",
              "      <th>Validation Loss</th>\n",
              "    </tr>\n",
              "  </thead>\n",
              "  <tbody>\n",
              "  </tbody>\n",
              "</table><p>"
            ]
          },
          "metadata": {}
        },
        {
          "output_type": "execute_result",
          "data": {
            "text/plain": [
              "TrainOutput(global_step=4, training_loss=0.7495890855789185, metrics={'train_runtime': 1.6134, 'train_samples_per_second': 4.339, 'train_steps_per_second': 2.479, 'total_flos': 0.0, 'train_loss': 0.7495890855789185, 'epoch': 1.0})"
            ]
          },
          "metadata": {},
          "execution_count": 30
        }
      ],
      "source": [
        "trainer = RewardTrainer(model=model,\n",
        "                        tokenizer=tokenizer,\n",
        "                        train_dataset=formatted_dataset['train'],\n",
        "                        eval_dataset=formatted_dataset['test'],\n",
        "                        args= training_args\n",
        "                        )\n",
        "trainer.train()"
      ]
    },
    {
      "cell_type": "code",
      "execution_count": 31,
      "id": "c8620e81",
      "metadata": {
        "id": "c8620e81"
      },
      "outputs": [],
      "source": [
        "trainer.save_model(\"rm_model/\")"
      ]
    },
    {
      "cell_type": "code",
      "execution_count": 32,
      "id": "1d56a13c",
      "metadata": {
        "id": "1d56a13c"
      },
      "outputs": [],
      "source": [
        "# ## inference the model\n",
        "# rm_model = AutoModelForCausalLM.from_pretrained(\"rm_model/\").to(\"cuda:0\")\n",
        "# tokenizer = AutoTokenizer.from_pretrained(\"bigcode/tiny_starcoder_py\")\n",
        "# tokenizer.pad_token = tokenizer.eos_token"
      ]
    },
    {
      "cell_type": "code",
      "execution_count": 33,
      "id": "e694fbc6",
      "metadata": {
        "id": "e694fbc6"
      },
      "outputs": [],
      "source": [
        "# def get_score(model, tokenizer, prompt, response):\n",
        "#     instructions = tokenizer.encode_plus(\n",
        "#         prompt,\n",
        "#         response,\n",
        "#         padding=\"max_length\",\n",
        "#         max_length=256,\n",
        "#         return_tensors=\"pt\",\n",
        "#         truncation=True\n",
        "#     )\n",
        "#     instructions = {key: value.to(\"cuda:0\") for key, value in instructions.items()}\n",
        "\n",
        "#     with torch.no_grad():\n",
        "#         outputs = model(**instructions)\n",
        "\n",
        "#     logits = outputs[0]\n",
        "\n",
        "#     return logits"
      ]
    },
    {
      "cell_type": "code",
      "execution_count": 34,
      "id": "ed481305",
      "metadata": {
        "id": "ed481305"
      },
      "outputs": [],
      "source": [
        "# # usage with prompt\n",
        "# prompt = df.iloc[0][\"prompt\"]\n",
        "# example_prefered_response = df.iloc[0][\"chosen\"]\n",
        "# example_unprefered_response = df.iloc[0][\"rejected\"]"
      ]
    },
    {
      "cell_type": "code",
      "execution_count": 35,
      "id": "1d513768",
      "metadata": {
        "id": "1d513768"
      },
      "outputs": [],
      "source": [
        "# loss1 = get_score(model, tokenizer, prompt, example_prefered_response)\n",
        "# loss2= get_score(model, tokenizer, prompt, example_unprefered_response)"
      ]
    },
    {
      "cell_type": "code",
      "execution_count": 36,
      "id": "bc95e92f",
      "metadata": {
        "id": "bc95e92f"
      },
      "outputs": [],
      "source": [
        "# from torch import nn\n",
        "# loss = -nn.functional.logsigmoid(loss1 - loss2).mean()"
      ]
    },
    {
      "cell_type": "code",
      "execution_count": 37,
      "id": "1c5e14b4",
      "metadata": {
        "id": "1c5e14b4"
      },
      "outputs": [],
      "source": [
        "# tokenizer.decode(torch.max(loss1, axis=-1).indices[0])"
      ]
    },
    {
      "cell_type": "markdown",
      "id": "92769534",
      "metadata": {
        "id": "92769534"
      },
      "source": [
        "### **Policy Model**"
      ]
    },
    {
      "cell_type": "code",
      "execution_count": 38,
      "id": "50d0acdb",
      "metadata": {
        "id": "50d0acdb"
      },
      "outputs": [],
      "source": [
        "##model path\n",
        "MODEL_PATH = \"rm_model/\"\n",
        "DATA_PATH = \"data/test_reward.parquet\""
      ]
    },
    {
      "cell_type": "code",
      "execution_count": 39,
      "id": "221cfe68",
      "metadata": {
        "id": "221cfe68",
        "outputId": "891e2116-d901-484e-a4c1-1019dc068015",
        "colab": {
          "base_uri": "https://localhost:8080/"
        }
      },
      "outputs": [
        {
          "output_type": "execute_result",
          "data": {
            "text/plain": [
              "Dataset({\n",
              "    features: ['prompt', 'chosen', 'rejected'],\n",
              "    num_rows: 1000\n",
              "})"
            ]
          },
          "metadata": {},
          "execution_count": 39
        }
      ],
      "source": [
        "df = pd.read_parquet(DATA_PATH)\n",
        "df = df[:1000]\n",
        "dataset = Dataset.from_pandas(df)\n",
        "dataset"
      ]
    },
    {
      "cell_type": "code",
      "execution_count": 40,
      "id": "05f02097",
      "metadata": {
        "id": "05f02097"
      },
      "outputs": [],
      "source": [
        "sentiment_pipe_kwargs = {\"top_k\": None, \"function_to_apply\": \"none\"}\n",
        "\n",
        "config = PPOConfig(\n",
        "    model_name=MODEL_PATH, steps=51200, learning_rate=1.41e-5, remove_unused_columns=True\n",
        ")\n",
        "\n",
        "txt_in_len = 5\n",
        "txt_out_len = 20\n",
        "seed = 1"
      ]
    },
    {
      "cell_type": "code",
      "execution_count": 41,
      "id": "40d0ef6a",
      "metadata": {
        "id": "40d0ef6a",
        "outputId": "d5a92c11-199c-4ea1-d05b-01fcec8252e3",
        "colab": {
          "referenced_widgets": [
            "8090679e7f3d4e918ca4605f8e006538",
            "3e6896b95aca4ef682625cf09b980687",
            "ea6e5967ed4445ac98fc2be88795e791",
            "c350cf0d48984da0ab653a8fd8ca46aa",
            "a3999fcf83504fdcb3cec34eff46b88c",
            "4bf52a9ece5a4442982fc06e9644e85f",
            "c819b526506440c29d230af3d48e9084",
            "6350edf459ac4c83a4b192306f4096a1",
            "034418bc95044a2ea0b72bb89334c242",
            "da72a2bcb0564e98a2dcd0c02c46d341",
            "204594e40cc341e399b2ee93756f1c0b",
            "782fd2899f6048f4818845a0ae56253f",
            "d569180b8be5410c92d72c106b166582",
            "5e9fff692724488ab24079cef89d0bf2",
            "04dff9c7f51e49558479a1ee895d69b4",
            "605486fed57b4acf9f5a757a72e81a44",
            "c30af88bb29b4f1aa10d58350212fefd",
            "ddee74a19bfa46b19b6100607dd1f3a2",
            "e2323341ffc44412a2ec89e187f4191f",
            "d4f3cc882b74483db6d9e56669c52093",
            "3465109bc5d5420aa9eec1743473b53f",
            "ee849459bfa444b0a2087be026610f79"
          ],
          "base_uri": "https://localhost:8080/",
          "height": 81
        }
      },
      "outputs": [
        {
          "output_type": "display_data",
          "data": {
            "text/plain": [
              "Filter:   0%|          | 0/1000 [00:00<?, ? examples/s]"
            ],
            "application/vnd.jupyter.widget-view+json": {
              "version_major": 2,
              "version_minor": 0,
              "model_id": "8090679e7f3d4e918ca4605f8e006538"
            }
          },
          "metadata": {}
        },
        {
          "output_type": "display_data",
          "data": {
            "text/plain": [
              "Map:   0%|          | 0/1000 [00:00<?, ? examples/s]"
            ],
            "application/vnd.jupyter.widget-view+json": {
              "version_major": 2,
              "version_minor": 0,
              "model_id": "782fd2899f6048f4818845a0ae56253f"
            }
          },
          "metadata": {}
        }
      ],
      "source": [
        "dataset = dataset.rename_columns({\"prompt\": \"review\"})\n",
        "dataset = dataset.filter(lambda x: len(x[\"review\"]) > 500, batched=False)\n",
        "dataset = dataset.map(lambda x: {\"review\": x[\"review\"][:1000]}, batched=False)"
      ]
    },
    {
      "cell_type": "code",
      "execution_count": 42,
      "id": "96d7e8b8",
      "metadata": {
        "id": "96d7e8b8"
      },
      "outputs": [],
      "source": [
        "tokenizer = AutoTokenizer.from_pretrained(MODEL_PATH, padding_side='left')\n",
        "tokenizer.pad_token = tokenizer.eos_token"
      ]
    },
    {
      "cell_type": "code",
      "execution_count": 43,
      "id": "3adda4dc",
      "metadata": {
        "id": "3adda4dc",
        "outputId": "0c457675-caa5-4784-e76f-ed5cdd194fae",
        "colab": {
          "referenced_widgets": [
            "82466e5513bc414f8b223803a239900e",
            "9f2bf6e3525341748e0c3e0558a606f0",
            "bbf125427f244be0bc5d4a4c3991d6d4",
            "6fdbb6ad69504c1ba3ef49fd64493592",
            "dc414c6409764f519ee86691338090fc",
            "e46eec7eef874ef197886055430a8e5c",
            "59a848669e9548158ae353664754c516",
            "26d232fe3719493eb29a6c5e5fd241ce",
            "d400a0a4f0384c9cac691ca97982bdca",
            "25446a0205f44affba4035c36d48a7e3",
            "d740640a88374558b024630aa25425bb",
            "1b944d72081f4bf98171e1959412adc4",
            "58b7311d19164641bb62641abd59f63e",
            "0f75eb984b03473aa3becd7bc6225374",
            "8cdca42f6be3436295d10aa25cbee5d1",
            "f435c23c9c6a4fa5886a9639a7328221",
            "2bd7f884ca5f453ab40af6e4e210a82e",
            "6e6956f16bf14dec823fc5299f975efb",
            "888b1d9ddacc49f8aef747f7edfe243c",
            "222d592e9f4e42ffa6cbdd865a2f3cc9",
            "b97cc5b046044c61b9d4409933a73ccc",
            "fa85190a1c004449b8ab99957261e5f3"
          ],
          "base_uri": "https://localhost:8080/",
          "height": 81
        }
      },
      "outputs": [
        {
          "output_type": "display_data",
          "data": {
            "text/plain": [
              "Map:   0%|          | 0/1000 [00:00<?, ? examples/s]"
            ],
            "application/vnd.jupyter.widget-view+json": {
              "version_major": 2,
              "version_minor": 0,
              "model_id": "82466e5513bc414f8b223803a239900e"
            }
          },
          "metadata": {}
        },
        {
          "output_type": "display_data",
          "data": {
            "text/plain": [
              "Map:   0%|          | 0/1000 [00:00<?, ? examples/s]"
            ],
            "application/vnd.jupyter.widget-view+json": {
              "version_major": 2,
              "version_minor": 0,
              "model_id": "1b944d72081f4bf98171e1959412adc4"
            }
          },
          "metadata": {}
        }
      ],
      "source": [
        "txt_in_len = 5\n",
        "txt_out_len = 32\n",
        "seed = 1\n",
        "\n",
        "dataset = dataset.map(\n",
        "    lambda x: {\"input_ids\": tokenizer.encode(\" \" + x[\"chosen\"], return_tensors=\"pt\", truncation=True, padding=\"max_length\", max_length=32)[0]},\n",
        "    batched=False,\n",
        ")\n",
        "dataset = dataset.map(lambda x: {\"query\": tokenizer.decode(x[\"input_ids\"])}, batched=False)\n",
        "dataset = dataset[:20480]\n",
        "from datasets import Dataset\n",
        "\n",
        "dataset = Dataset.from_dict(dataset)\n",
        "dataset.set_format(\"pytorch\")"
      ]
    },
    {
      "cell_type": "code",
      "execution_count": 44,
      "id": "e189a22b",
      "metadata": {
        "id": "e189a22b"
      },
      "outputs": [],
      "source": [
        "def collator(data):\n",
        "    return dict((key, [d[key] for d in data]) for key in data[0])"
      ]
    },
    {
      "cell_type": "code",
      "execution_count": 45,
      "id": "cc612f5f",
      "metadata": {
        "id": "cc612f5f"
      },
      "outputs": [],
      "source": [
        "sft_model_path = \"sft_model/\"\n",
        "rf_model_path = \"rm_model/\"\n",
        "starcoder_model = AutoModelForCausalLMWithValueHead.from_pretrained(sft_model_path)\n",
        "starcoder_model_ref = AutoModelForCausalLMWithValueHead.from_pretrained(rf_model_path)\n",
        "starcoder_tokenizer = AutoTokenizer.from_pretrained(\"bigcode/tiny_starcoder_py\")\n",
        "starcoder_tokenizer.pad_token = tokenizer.eos_token"
      ]
    },
    {
      "cell_type": "code",
      "execution_count": 46,
      "id": "2836e5cc",
      "metadata": {
        "id": "2836e5cc",
        "outputId": "474b7e8b-bc42-48e1-ed09-d5ee4a10b6d2",
        "colab": {
          "base_uri": "https://localhost:8080/"
        }
      },
      "outputs": [
        {
          "output_type": "execute_result",
          "data": {
            "text/plain": [
              "Dataset({\n",
              "    features: ['review', 'chosen', 'rejected', 'input_ids', 'query'],\n",
              "    num_rows: 1000\n",
              "})"
            ]
          },
          "metadata": {},
          "execution_count": 46
        }
      ],
      "source": [
        "dataset"
      ]
    },
    {
      "cell_type": "code",
      "execution_count": 47,
      "id": "4800d3e9",
      "metadata": {
        "id": "4800d3e9"
      },
      "outputs": [],
      "source": [
        "# starcoder_model"
      ]
    },
    {
      "cell_type": "code",
      "execution_count": 48,
      "id": "2e1a2e38",
      "metadata": {
        "id": "2e1a2e38"
      },
      "outputs": [],
      "source": [
        "optimizer = torch.optim.SGD(starcoder_model.parameters(), lr=config.learning_rate)\n",
        "ppo_trainer = PPOTrainer(config, starcoder_model, starcoder_model_ref, starcoder_tokenizer, dataset=dataset, data_collator=collator, optimizer=optimizer)"
      ]
    },
    {
      "cell_type": "code",
      "execution_count": 49,
      "id": "e63e72ad",
      "metadata": {
        "id": "e63e72ad"
      },
      "outputs": [],
      "source": [
        "# for i in ppo_trainer.dataloader:\n",
        "#   print(i)\n",
        "#   break"
      ]
    },
    {
      "cell_type": "code",
      "execution_count": 50,
      "id": "e329e292",
      "metadata": {
        "id": "e329e292"
      },
      "outputs": [],
      "source": [
        "ctrl_str = [\"[negative]\", \"[positive]\"]\n",
        "device = torch.device(\"cuda:0\" if torch.cuda.is_available() else \"cpu\")  # this should be handled by accelerate\n",
        "ctrl_tokens = dict((s, starcoder_tokenizer.encode(s, return_tensors=\"pt\").squeeze().to(device)) for s in ctrl_str)"
      ]
    },
    {
      "cell_type": "code",
      "execution_count": 51,
      "id": "597ac197",
      "metadata": {
        "id": "597ac197"
      },
      "outputs": [],
      "source": [
        "def pos_logit_to_reward(logit, task):\n",
        "    \"\"\"\n",
        "    Take the positive sentiment logit and scale it for the task.\n",
        "        task [negative]: reward = -logit\n",
        "        task [neutral]: reward = -2*abs(logit)+4\n",
        "        task [positive]: reward = logit\n",
        "    \"\"\"\n",
        "    for i in range(len(logit)):\n",
        "        if task[i] == \"[negative]\":\n",
        "            logit[i] = -logit[i]\n",
        "        elif task[i] == \"[positive]\":\n",
        "            pass\n",
        "        else:\n",
        "            raise ValueError(\"task has to be in [0, 1, 2]!\")\n",
        "    return logit"
      ]
    },
    {
      "cell_type": "code",
      "execution_count": 52,
      "id": "8a916542",
      "metadata": {
        "id": "8a916542",
        "outputId": "0e7ebb80-7e0c-4a0b-c034-9e3c5ee3f646",
        "colab": {
          "base_uri": "https://localhost:8080/"
        }
      },
      "outputs": [
        {
          "output_type": "execute_result",
          "data": {
            "text/plain": [
              "tensor([-4.,  4.], device='cuda:0')"
            ]
          },
          "metadata": {},
          "execution_count": 52
        }
      ],
      "source": [
        "pos_logit_to_reward(torch.Tensor([4, 4]), ctrl_str).to(\"cuda:0\")"
      ]
    },
    {
      "cell_type": "code",
      "execution_count": 53,
      "id": "2974cb44",
      "metadata": {
        "id": "2974cb44"
      },
      "outputs": [],
      "source": [
        "generation_kwargs = {\n",
        "    \"min_length\": -1,\n",
        "    \"top_k\": 0.0,\n",
        "    \"top_p\": 1.0,\n",
        "    \"do_sample\": True,\n",
        "    \"pad_token_id\": starcoder_tokenizer.eos_token_id,\n",
        "    \"max_new_tokens\": 32,\n",
        "    \"eos_token_id\": -1,\n",
        "}"
      ]
    },
    {
      "cell_type": "code",
      "source": [
        "def get_score(model, tokenizer, responses):\n",
        "    positive_logist = []\n",
        "    with torch.no_grad():\n",
        "        for i in responses:\n",
        "            instructions = tokenizer.encode_plus(\n",
        "                i,\n",
        "                padding=\"max_length\",\n",
        "                max_length=32,\n",
        "                return_tensors=\"pt\"\n",
        "            )\n",
        "            instructions = {key: value.to(device) for key, value in instructions.items()}\n",
        "\n",
        "            outputs = model(**instructions)\n",
        "            logits = outputs[0].mean()\n",
        "            positive_logist.append(logits)\n",
        "\n",
        "    return positive_logist"
      ],
      "metadata": {
        "id": "f3Ck8_x_IEKr"
      },
      "id": "f3Ck8_x_IEKr",
      "execution_count": 54,
      "outputs": []
    },
    {
      "cell_type": "code",
      "execution_count": 55,
      "id": "27cf0762",
      "metadata": {
        "id": "27cf0762"
      },
      "outputs": [],
      "source": [
        "# def get_score(model, tokenizer, responses):\n",
        "#     positive_logist = []\n",
        "#     for i in responses:\n",
        "#         instructions = tokenizer.encode_plus(\n",
        "#                                            i,\n",
        "#                                            padding=\"max_length\",\n",
        "#                                            max_length=32,\n",
        "#                                            return_tensors=\"pt\")\n",
        "#         with torch.no_grad():\n",
        "#             outputs = model(**instructions)\n",
        "\n",
        "#         logits = outputs[0].mean()\n",
        "#         positive_logist.append(logits.to('cuda:0')) ####\n",
        "\n",
        "#     return positive_logist\n"
      ]
    },
    {
      "cell_type": "code",
      "execution_count": 56,
      "id": "41d47d37",
      "metadata": {
        "id": "41d47d37"
      },
      "outputs": [],
      "source": [
        "# responses =[\"ashish is a goo\", \"heelow how are you\", \"__IT_\\nr/\\n: r RelationshipRelationship]]0]\\nlsriend\\n2//M]\\n [ [ a\\n the was to the [. a friends to\\n\\n:\\n [lfriend [ me have a aried in his19 minutes.\\n\\nWhat Modified:** girlfriend was through the Facebook.. I my my friends.**** my  of lf**\\n\\n** was d1ing for my few personirl** I had for findoolpping my my the future** but I was that in\\n\\n** have ali  of to she  tolirt my me girl. and she found my about my.. me few of gir.1viously). was\\'t find her was).\\n\\n** was it about my twoirl and the had  Facebook. the  and she gand historyirl) was in April,\\n to, find, were flirted. I a messages.. f.ing on her.\\n girlM\\n; I1 girirllfriend and the19 months. to my Facebook.. my permission. she her messages. my.lirty with my fewirl.\\n found her with me. I through more with\\n\"]\n",
        "# get_score(starcoder_model, tokenizer, responses)"
      ]
    },
    {
      "cell_type": "code",
      "execution_count": 57,
      "id": "253d6cc8",
      "metadata": {
        "id": "253d6cc8",
        "outputId": "54ff4236-d451-41a5-fe35-55fbc4b671a7",
        "colab": {
          "base_uri": "https://localhost:8080/"
        }
      },
      "outputs": [
        {
          "output_type": "stream",
          "name": "stderr",
          "text": [
            "\r  0%|          | 0/3 [00:00<?, ?it/s]/usr/local/lib/python3.10/dist-packages/transformers/generation/utils.py:1411: UserWarning: You have modified the pretrained model configuration to control generation. This is a deprecated strategy to control generation and will be removed soon, in a future version. Please use a generation configuration file (see https://huggingface.co/docs/transformers/main_classes/text_generation )\n",
            "  warnings.warn(\n"
          ]
        },
        {
          "output_type": "stream",
          "name": "stdout",
          "text": [
            "['[negative]', '[positive]']\n"
          ]
        },
        {
          "output_type": "stream",
          "name": "stderr",
          "text": [
            "You're using a GPT2TokenizerFast tokenizer. Please note that with a fast tokenizer, using the `__call__` method is faster than using a method to encode the text followed by a call to the `pad` method to get a padded encoding.\n",
            " 33%|███▎      | 1/3 [03:56<07:52, 236.35s/it]"
          ]
        },
        {
          "output_type": "stream",
          "name": "stdout",
          "text": [
            "['[negative]', '[positive]']\n"
          ]
        },
        {
          "output_type": "stream",
          "name": "stderr",
          "text": [
            "/usr/local/lib/python3.10/dist-packages/trl/trainer/ppo_trainer.py:1194: UserWarning: KL divergence is starting to become negative: -2.48 - this might be a precursor for failed training. sometimes this happens because the generation kwargs are not correctly set. Please make sure that the generation kwargs are set correctly, or review your training hyperparameters.\n",
            "  warnings.warn(\n",
            "\r 67%|██████▋   | 2/3 [07:53<03:56, 236.91s/it]"
          ]
        },
        {
          "output_type": "stream",
          "name": "stdout",
          "text": [
            "['[negative]', '[positive]']\n"
          ]
        },
        {
          "output_type": "stream",
          "name": "stderr",
          "text": [
            "100%|██████████| 3/3 [11:50<00:00, 236.83s/it]\n"
          ]
        }
      ],
      "source": [
        "for epoch in range(1):\n",
        "    for batch in tqdm(ppo_trainer.dataloader):\n",
        "        (logs, game_data,) = (\n",
        "            dict(),\n",
        "            dict(),\n",
        "        )\n",
        "\n",
        "        print(ctrl_str)\n",
        "        #### prepend a random control token\n",
        "        task_list = choices(ctrl_str, k=config.batch_size)\n",
        "        game_data[\"query\"] = [t + q for t, q in zip(task_list, batch[\"query\"])]\n",
        "        query_tensors = [torch.cat((ctrl_tokens[t].to('cuda:0'), input_ids.to('cuda:0'))) for t, input_ids in zip(task_list, batch[\"input_ids\"])] ####\n",
        "\n",
        "        #### get response from gpt2\n",
        "        response_tensors = []\n",
        "        for query in query_tensors:\n",
        "            response = ppo_trainer.generate(query, **generation_kwargs)\n",
        "            response_tensors.append(response.squeeze()[-txt_out_len:])\n",
        "#         print(response_tensors)\n",
        "        game_data[\"response\"] = [starcoder_tokenizer.decode(r.squeeze()) for r in response_tensors]\n",
        "\n",
        "        #### sentiment analysis\n",
        "        texts = [q + r for q, r in zip(batch[\"query\"], game_data[\"response\"])]\n",
        "        logits = get_score(starcoder_model,starcoder_tokenizer, texts)\n",
        "        rewards = pos_logit_to_reward(logits, task_list)\n",
        "\n",
        "        #### Run PPO training\n",
        "        t = time.time()\n",
        "        stats = ppo_trainer.step(query_tensors, response_tensors, rewards)\n",
        "\n",
        "        for cs in ctrl_str:\n",
        "            key = \"env/reward_\" + cs.strip(\"[]\")\n",
        "            stats[key] = np.mean([r.cpu().numpy() for r, t in zip(rewards, task_list) if t == cs])\n",
        "        ppo_trainer.log_stats(stats, game_data, rewards)"
      ]
    },
    {
      "cell_type": "code",
      "execution_count": 58,
      "id": "d0bad48f",
      "metadata": {
        "id": "d0bad48f",
        "outputId": "7e639c2d-8fd4-4e69-963d-237845af1dfd",
        "colab": {
          "base_uri": "https://localhost:8080/"
        }
      },
      "outputs": [
        {
          "output_type": "execute_result",
          "data": {
            "text/plain": [
              "('rhlf_model/tokenizer_config.json',\n",
              " 'rhlf_model/special_tokens_map.json',\n",
              " 'rhlf_model/vocab.json',\n",
              " 'rhlf_model/merges.txt',\n",
              " 'rhlf_model/added_tokens.json',\n",
              " 'rhlf_model/tokenizer.json')"
            ]
          },
          "metadata": {},
          "execution_count": 58
        }
      ],
      "source": [
        "# saving the model\n",
        "starcoder_model.save_pretrained(\"rhlf_model/\")\n",
        "starcoder_tokenizer.save_pretrained(\"rhlf_model/\")"
      ]
    },
    {
      "cell_type": "code",
      "execution_count": 59,
      "id": "23bf2489",
      "metadata": {
        "id": "23bf2489",
        "outputId": "744ec34a-1ab0-4572-e6b7-c61ff5cfd929",
        "colab": {
          "base_uri": "https://localhost:8080/"
        }
      },
      "outputs": [
        {
          "output_type": "stream",
          "name": "stderr",
          "text": [
            "Some weights of the model checkpoint at rhlf_model/ were not used when initializing GPTBigCodeForCausalLM: ['v_head.summary.weight', 'v_head.summary.bias']\n",
            "- This IS expected if you are initializing GPTBigCodeForCausalLM from the checkpoint of a model trained on another task or with another architecture (e.g. initializing a BertForSequenceClassification model from a BertForPreTraining model).\n",
            "- This IS NOT expected if you are initializing GPTBigCodeForCausalLM from the checkpoint of a model that you expect to be exactly identical (initializing a BertForSequenceClassification model from a BertForSequenceClassification model).\n"
          ]
        }
      ],
      "source": [
        "# inference the model\n",
        "model_path = \"rhlf_model/\"\n",
        "set_seed(42)\n",
        "pipe = pipeline(\"text-generation\",model=model_path, tokenizer=model_path, max_length=30, num_return_sequences=5)"
      ]
    },
    {
      "cell_type": "code",
      "execution_count": 60,
      "id": "026e2c6c",
      "metadata": {
        "id": "026e2c6c",
        "colab": {
          "base_uri": "https://localhost:8080/",
          "height": 36
        },
        "outputId": "9e3f29a9-868c-4ece-8210-f6f81839b078"
      },
      "outputs": [
        {
          "output_type": "execute_result",
          "data": {
            "text/plain": [
              "'TL;DR:  My girlfriend found messages in my Facebook from a girl I liked in the past. They were flirtatious but she was never my girlfriend. I never flirted with her again.'"
            ],
            "application/vnd.google.colaboratory.intrinsic+json": {
              "type": "string"
            }
          },
          "metadata": {},
          "execution_count": 60
        }
      ],
      "source": [
        "text = dataset[\"rejected\"][5]\n",
        "text"
      ]
    },
    {
      "cell_type": "code",
      "execution_count": 62,
      "id": "8e8d8135",
      "metadata": {
        "scrolled": false,
        "id": "8e8d8135",
        "outputId": "8a7b894c-4bb5-4c6e-eb23-26e1a4083d50",
        "colab": {
          "base_uri": "https://localhost:8080/"
        }
      },
      "outputs": [
        {
          "output_type": "execute_result",
          "data": {
            "text/plain": [
              "{'objective/kl': -0.7443042993545532,\n",
              " 'objective/kl_dist': array([ 2.8485279e+00, -1.0372770e+00,  4.0997952e-01,  3.0971456e-01,\n",
              "        -4.7007573e-01, -8.9723337e-01, -6.6104561e-02,  8.4472024e-01,\n",
              "         4.3303597e-01,  1.4909620e+00,  3.4496760e-01,  2.4994562e+00,\n",
              "         3.9599001e-01,  6.0608816e-01, -2.9500778e+01, -3.7686691e-01,\n",
              "         1.6866257e+00, -5.1669884e+00,  1.3375962e+00, -4.8271017e+00,\n",
              "        -3.6307490e-01,  5.6373906e-01,  1.5335146e-01,  3.8837385e-01,\n",
              "        -1.0659189e+00,  7.8638512e-01, -1.0854870e+00,  1.1046568e+00,\n",
              "        -2.4346215e-01,  2.4608698e+00,  3.1283231e+00, -4.9195227e-01,\n",
              "        -6.4106345e-02,  1.6595874e+00, -4.7089365e-01, -1.1195879e+00,\n",
              "         4.1845942e+00,  1.5594051e+00, -4.4533986e-01, -4.0914154e-01,\n",
              "         6.0475445e-01, -2.8349817e-01,  2.6740065e+00,  6.6300023e-01,\n",
              "        -6.3538253e-01,  2.8435850e+00, -1.2948693e+01, -5.2789718e-01,\n",
              "         2.5434053e+00,  4.0385108e+00,  5.1890564e-01, -6.9660654e+00,\n",
              "        -7.5469494e-02,  1.2511702e+00,  1.5464284e+00, -2.0073339e-01,\n",
              "         1.7764429e+00,  2.2220187e+00,  1.0898432e+00,  2.0065703e+00,\n",
              "         1.5815802e+00,  1.1312354e+00,  1.4477680e+00,  1.5113057e+00,\n",
              "         2.0240777e+00, -4.2293957e-01,  4.5214176e-02, -3.2940018e+00,\n",
              "         5.9561187e-01, -1.2602650e+00,  1.3237684e+00,  1.0406301e+00,\n",
              "         1.5117043e-01, -4.0997210e+00,  8.4997976e-01, -7.8699476e-01,\n",
              "         2.5445933e+00, -1.0459764e+00, -4.2024428e-01, -1.8255954e+00,\n",
              "        -1.9693136e-02,  9.6050441e-01, -3.3509197e+00,  1.0738368e+00,\n",
              "         1.4350138e+00, -1.6494815e+00,  9.7040486e-01,  8.8299990e-01,\n",
              "         1.9764867e-01,  1.8266932e+00,  1.9139731e+00, -5.3525507e-01,\n",
              "         2.8300384e-01, -4.8343116e-01, -7.9850960e-01,  5.9840125e-01,\n",
              "         1.0269886e+00,  1.8926347e+00, -4.7426647e-01,  3.2229054e+00,\n",
              "        -2.3042482e+01,  1.8276844e+00,  7.7481508e+00, -7.3828399e-02,\n",
              "         1.2495353e+00,  7.7287555e-01,  1.8564682e+00,  6.2542272e-01,\n",
              "         2.6842308e+00, -2.0304137e-01,  9.3031579e-01, -1.5577555e+00,\n",
              "         1.6003525e+00,  9.1749907e-02,  1.0263224e+00,  2.9148716e-01,\n",
              "         2.4006777e+00,  2.9071355e+00,  1.5445101e+00,  5.6529188e-01,\n",
              "         1.9040847e+00, -3.0561769e-01,  4.8371863e-01, -1.9767854e-01,\n",
              "         2.7406111e+00,  1.7836452e-01,  1.1723222e+00,  1.8159783e-01,\n",
              "        -1.3968325e-01,  3.3137590e-01,  4.4042263e+00, -2.0630262e+01,\n",
              "        -1.4382780e+00,  6.5634710e-01, -6.7064774e-01, -5.2355200e-02,\n",
              "        -1.4077348e-01, -3.2971737e+01,  8.0746019e-01,  1.6104044e+00,\n",
              "         1.3502712e+00, -1.0056564e-01,  9.1479075e-01,  2.4770918e+00,\n",
              "         1.4574172e+00,  1.2161074e+00,  1.0689380e+00,  2.1633186e+00,\n",
              "        -1.2178924e+00, -1.7534858e-01, -3.0069306e-01,  3.6588509e+00,\n",
              "         1.6313332e+00, -5.0972295e-01, -4.0171700e+00, -7.7330351e-01,\n",
              "        -2.3204079e-01,  5.8319145e-01,  6.0065436e-01,  1.2773724e+00,\n",
              "        -5.2207804e-01,  1.5897183e+00,  1.2719914e+00,  2.4644655e-01,\n",
              "        -2.4606890e+01,  9.6481681e-02,  6.6762638e-01, -1.0853553e-01,\n",
              "        -1.4184562e+01, -7.5011849e-03,  1.5902132e-02,  2.2828549e-01,\n",
              "        -7.8157283e-02,  2.7499719e+00, -1.3172137e+00, -1.0914922e-01,\n",
              "        -3.2166502e-01, -1.7688334e-02,  4.7716373e-01,  1.3232367e+00,\n",
              "         1.8104268e+00, -3.9261556e-01, -1.2635640e+00,  6.7853177e-01,\n",
              "         2.8771451e-01,  5.3913862e-02,  1.6197336e+00,  1.2940469e+00,\n",
              "         1.3601792e-01,  1.8645296e+00, -1.8595012e+00,  4.7206327e-01,\n",
              "         1.5753031e-02,  2.1475033e-01,  2.1952882e+00,  2.1948435e+00,\n",
              "         1.5860271e+00,  6.2603444e-01,  1.0420175e+00, -1.2224940e+00,\n",
              "        -7.6114929e-01, -2.3822234e+00,  2.0924802e+00,  3.6669364e+00,\n",
              "         3.8218734e-01,  1.1581181e+00,  1.6621963e+00,  2.9449785e-01,\n",
              "         3.1882548e-01,  1.8131015e+00,  5.4089820e-01, -4.8732414e+01,\n",
              "         1.2473180e+00,  8.7687099e-01,  6.4898294e-01, -6.2628073e-01,\n",
              "        -3.8944450e-01, -2.6501852e-01,  1.9627305e+00,  9.2510593e-01,\n",
              "         1.3043480e+00,  3.3914382e+00,  8.5197932e-01, -2.5625148e-01,\n",
              "         1.0623412e+00,  1.4132342e+00,  1.0752342e+00,  2.6964933e-01,\n",
              "        -4.3079019e-02, -1.2696173e+00,  1.3991148e+00,  5.5370550e+00,\n",
              "         6.2189561e-01, -6.9345994e+00, -1.6596872e+00,  2.5559938e-01,\n",
              "        -1.3508273e+01,  1.0796057e+00,  1.3510835e+00, -7.2432724e+01,\n",
              "         1.1079920e-01,  2.1957169e+00, -2.5646610e+00, -1.3375652e+00,\n",
              "         3.5319945e-01,  4.6488369e-01,  1.3309674e+00, -8.4503899e+00,\n",
              "         1.1382934e+00, -3.3728738e+00, -7.4553716e-01,  8.6041614e-02,\n",
              "         1.5543590e+00, -5.7383031e-02, -1.4300805e+01,  8.2178038e-01],\n",
              "       dtype=float32),\n",
              " 'objective/logprobs': array([[-1.4113989e+01, -5.3026767e+00, -1.3136570e+01, ...,\n",
              "         -9.5415644e-02, -5.2196532e-02, -4.2944755e-02],\n",
              "        [-1.4113989e+01, -5.3026767e+00, -1.3136570e+01, ...,\n",
              "         -1.8129936e-01, -1.3947921e-01, -1.0667023e-01],\n",
              "        [-1.4113989e+01, -5.3026767e+00, -1.3136570e+01, ...,\n",
              "         -1.6150102e-01, -1.2809391e-01, -1.0110602e-01],\n",
              "        ...,\n",
              "        [-1.5021061e+01, -5.3365736e+00, -1.3371218e+01, ...,\n",
              "         -6.1772904e+00, -5.6516814e+00, -6.9619126e+00],\n",
              "        [-1.4113989e+01, -5.3026767e+00, -9.7373495e+00, ...,\n",
              "         -3.6954196e-05, -2.6940936e-05, -2.7060143e-05],\n",
              "        [-1.5021061e+01, -5.3365736e+00, -1.3371218e+01, ...,\n",
              "         -7.7671230e-02, -6.0251273e-02, -4.6967052e-02]], dtype=float32),\n",
              " 'objective/ref_logprobs': array([[-1.4159772e+01, -5.4230800e+00, -1.3172697e+01, ...,\n",
              "         -3.7017465e-02, -1.5841700e-02, -1.1080283e-02],\n",
              "        [-1.4159772e+01, -5.4230800e+00, -1.3172697e+01, ...,\n",
              "         -6.1711892e-02, -4.7118202e-02, -3.6955085e-02],\n",
              "        [-1.4159772e+01, -5.4230800e+00, -1.3172697e+01, ...,\n",
              "         -4.6436999e-02, -2.8561896e-02, -1.8208960e-02],\n",
              "        ...,\n",
              "        [-1.5105195e+01, -5.4684343e+00, -1.3411483e+01, ...,\n",
              "         -5.9632483e+00, -5.6008916e+00, -6.8058853e+00],\n",
              "        [-1.4159772e+01, -5.4230800e+00, -9.6497040e+00, ...,\n",
              "         -6.6516572e-05, -3.8742270e-05, -3.5166122e-05],\n",
              "        [-1.5105195e+01, -5.4684343e+00, -1.3411483e+01, ...,\n",
              "         -1.3604777e-02, -9.4236555e-03, -6.8251104e-03]], dtype=float32),\n",
              " 'objective/kl_coef': 0.19795724288000002,\n",
              " 'objective/entropy': 134.98385620117188,\n",
              " 'ppo/mean_non_score_reward': 0.004604388494044542,\n",
              " 'ppo/mean_scores': 0.8482491970062256,\n",
              " 'ppo/std_scores': 6.786569118499756,\n",
              " 'tokens/queries_len_mean': 35.0,\n",
              " 'tokens/queries_len_std': 0.0,\n",
              " 'tokens/queries_dist': array([35., 35., 35., 35., 35., 35., 35., 35., 35., 35., 35., 35., 35.,\n",
              "        35., 35., 35., 35., 35., 35., 35., 35., 35., 35., 35., 35., 35.,\n",
              "        35., 35., 35., 35., 35., 35., 35., 35., 35., 35., 35., 35., 35.,\n",
              "        35., 35., 35., 35., 35., 35., 35., 35., 35., 35., 35., 35., 35.,\n",
              "        35., 35., 35., 35., 35., 35., 35., 35., 35., 35., 35., 35., 35.,\n",
              "        35., 35., 35., 35., 35., 35., 35., 35., 35., 35., 35., 35., 35.,\n",
              "        35., 35., 35., 35., 35., 35., 35., 35., 35., 35., 35., 35., 35.,\n",
              "        35., 35., 35., 35., 35., 35., 35., 35., 35., 35., 35., 35., 35.,\n",
              "        35., 35., 35., 35., 35., 35., 35., 35., 35., 35., 35., 35., 35.,\n",
              "        35., 35., 35., 35., 35., 35., 35., 35., 35., 35., 35., 35., 35.,\n",
              "        35., 35., 35., 35., 35., 35., 35., 35., 35., 35., 35., 35., 35.,\n",
              "        35., 35., 35., 35., 35., 35., 35., 35., 35., 35., 35., 35., 35.,\n",
              "        35., 35., 35., 35., 35., 35., 35., 35., 35., 35., 35., 35., 35.,\n",
              "        35., 35., 35., 35., 35., 35., 35., 35., 35., 35., 35., 35., 35.,\n",
              "        35., 35., 35., 35., 35., 35., 35., 35., 35., 35., 35., 35., 35.,\n",
              "        35., 35., 35., 35., 35., 35., 35., 35., 35., 35., 35., 35., 35.,\n",
              "        35., 35., 35., 35., 35., 35., 35., 35., 35., 35., 35., 35., 35.,\n",
              "        35., 35., 35., 35., 35., 35., 35., 35., 35., 35., 35., 35., 35.,\n",
              "        35., 35., 35., 35., 35., 35., 35., 35., 35., 35., 35., 35., 35.,\n",
              "        35., 35., 35., 35., 35., 35., 35., 35., 35.], dtype=float32),\n",
              " 'tokens/responses_len_mean': 32.0,\n",
              " 'tokens/responses_len_std': 0.0,\n",
              " 'tokens/responses_dist': array([32., 32., 32., 32., 32., 32., 32., 32., 32., 32., 32., 32., 32.,\n",
              "        32., 32., 32., 32., 32., 32., 32., 32., 32., 32., 32., 32., 32.,\n",
              "        32., 32., 32., 32., 32., 32., 32., 32., 32., 32., 32., 32., 32.,\n",
              "        32., 32., 32., 32., 32., 32., 32., 32., 32., 32., 32., 32., 32.,\n",
              "        32., 32., 32., 32., 32., 32., 32., 32., 32., 32., 32., 32., 32.,\n",
              "        32., 32., 32., 32., 32., 32., 32., 32., 32., 32., 32., 32., 32.,\n",
              "        32., 32., 32., 32., 32., 32., 32., 32., 32., 32., 32., 32., 32.,\n",
              "        32., 32., 32., 32., 32., 32., 32., 32., 32., 32., 32., 32., 32.,\n",
              "        32., 32., 32., 32., 32., 32., 32., 32., 32., 32., 32., 32., 32.,\n",
              "        32., 32., 32., 32., 32., 32., 32., 32., 32., 32., 32., 32., 32.,\n",
              "        32., 32., 32., 32., 32., 32., 32., 32., 32., 32., 32., 32., 32.,\n",
              "        32., 32., 32., 32., 32., 32., 32., 32., 32., 32., 32., 32., 32.,\n",
              "        32., 32., 32., 32., 32., 32., 32., 32., 32., 32., 32., 32., 32.,\n",
              "        32., 32., 32., 32., 32., 32., 32., 32., 32., 32., 32., 32., 32.,\n",
              "        32., 32., 32., 32., 32., 32., 32., 32., 32., 32., 32., 32., 32.,\n",
              "        32., 32., 32., 32., 32., 32., 32., 32., 32., 32., 32., 32., 32.,\n",
              "        32., 32., 32., 32., 32., 32., 32., 32., 32., 32., 32., 32., 32.,\n",
              "        32., 32., 32., 32., 32., 32., 32., 32., 32., 32., 32., 32., 32.,\n",
              "        32., 32., 32., 32., 32., 32., 32., 32., 32., 32., 32., 32., 32.,\n",
              "        32., 32., 32., 32., 32., 32., 32., 32., 32.], dtype=float32),\n",
              " 'ppo/loss/policy': 0.048035409301519394,\n",
              " 'ppo/loss/value': 7.975863456726074,\n",
              " 'ppo/loss/total': 0.8456218242645264,\n",
              " 'ppo/policy/entropy': 3.093412399291992,\n",
              " 'ppo/policy/approxkl': 0.560494065284729,\n",
              " 'ppo/policy/policykl': 0.1791151762008667,\n",
              " 'ppo/policy/clipfrac': 0.1112060546875,\n",
              " 'ppo/policy/advantages': array([-0.11354325, -0.11597478, -0.11853429, ..., -1.741409  ,\n",
              "        -1.8260245 , -2.1123466 ], dtype=float32),\n",
              " 'ppo/policy/advantages_mean': -2.2351741790771484e-08,\n",
              " 'ppo/policy/ratio': array([1.        , 1.        , 1.        , ..., 0.91696405, 0.9278278 ,\n",
              "        0.9390089 ], dtype=float32),\n",
              " 'ppo/returns/mean': 0.6762224435806274,\n",
              " 'ppo/returns/var': 2.57207989692688,\n",
              " 'ppo/val/vpred': 0.4823871850967407,\n",
              " 'ppo/val/error': 14.877012252807617,\n",
              " 'ppo/val/clipfrac': 0.373565673828125,\n",
              " 'ppo/val/mean': 0.41674017906188965,\n",
              " 'ppo/val/var': 0.19622153043746948,\n",
              " 'ppo/val/var_explained': -4.784039497375488,\n",
              " 'ppo/learning_rate': 1.41e-05,\n",
              " 'time/ppo/forward_pass': 9.94454550743103,\n",
              " 'time/ppo/compute_rewards': 0.05672574043273926,\n",
              " 'time/ppo/compute_advantages': 0.010052919387817383,\n",
              " 'time/ppo/optimize_step': 70.41769003868103,\n",
              " 'time/ppo/calc_stats': 0.25668859481811523,\n",
              " 'time/ppo/total': 80.68591403961182,\n",
              " 'env/reward_negative': 6.821434,\n",
              " 'env/reward_positive': -6.831559}"
            ]
          },
          "metadata": {},
          "execution_count": 62
        }
      ],
      "source": [
        "stats"
      ]
    },
    {
      "cell_type": "code",
      "source": [
        "from transformers import AutoModelForCausalLM, AutoTokenizer\n",
        "\n",
        "checkpoint = \"rhlf_model/\"\n",
        "device = \"cuda\" # for GPU usage or \"cpu\" for CPU usage\n",
        "\n",
        "tokenizer = AutoTokenizer.from_pretrained(checkpoint)\n",
        "model = AutoModelForCausalLM.from_pretrained(checkpoint).to(device)\n",
        "\n",
        "\n",
        "input_text = \"Large language models (LLMs)\"\n",
        "inputs = tokenizer.encode(input_text, return_tensors=\"pt\").to(device)\n",
        "outputs = model.generate(inputs, max_new_tokens=100)\n",
        "print(tokenizer.decode(outputs[0], skip_special_tokens=True))"
      ],
      "metadata": {
        "id": "wmo6fIvwVUBF"
      },
      "id": "wmo6fIvwVUBF",
      "execution_count": null,
      "outputs": []
    }
  ],
  "metadata": {
    "kernelspec": {
      "display_name": "Python 3",
      "name": "python3"
    },
    "language_info": {
      "codemirror_mode": {
        "name": "ipython",
        "version": 3
      },
      "file_extension": ".py",
      "mimetype": "text/x-python",
      "name": "python",
      "nbconvert_exporter": "python",
      "pygments_lexer": "ipython3",
      "version": "3.11.4"
    },
    "colab": {
      "provenance": [],
      "gpuType": "T4"
    },
    "accelerator": "GPU",
    "widgets": {
      "application/vnd.jupyter.widget-state+json": {
        "868403f5fc6f461c8f41139791370ee6": {
          "model_module": "@jupyter-widgets/controls",
          "model_name": "HBoxModel",
          "model_module_version": "1.5.0",
          "state": {
            "_dom_classes": [],
            "_model_module": "@jupyter-widgets/controls",
            "_model_module_version": "1.5.0",
            "_model_name": "HBoxModel",
            "_view_count": null,
            "_view_module": "@jupyter-widgets/controls",
            "_view_module_version": "1.5.0",
            "_view_name": "HBoxView",
            "box_style": "",
            "children": [
              "IPY_MODEL_058601ad436a4d5fbe2ae0cfc35d8f58",
              "IPY_MODEL_96a5bbcd7c094080bd130592737236d3",
              "IPY_MODEL_8b6d800d2aee452e86e4500841ba0600"
            ],
            "layout": "IPY_MODEL_5900fa22c1ab43a4b6d0993197c3dbe4"
          }
        },
        "058601ad436a4d5fbe2ae0cfc35d8f58": {
          "model_module": "@jupyter-widgets/controls",
          "model_name": "HTMLModel",
          "model_module_version": "1.5.0",
          "state": {
            "_dom_classes": [],
            "_model_module": "@jupyter-widgets/controls",
            "_model_module_version": "1.5.0",
            "_model_name": "HTMLModel",
            "_view_count": null,
            "_view_module": "@jupyter-widgets/controls",
            "_view_module_version": "1.5.0",
            "_view_name": "HTMLView",
            "description": "",
            "description_tooltip": null,
            "layout": "IPY_MODEL_c5528692cabd4611a64ae0b3b6925c6c",
            "placeholder": "​",
            "style": "IPY_MODEL_c1e75d53306441cebe58fd7f28130f66",
            "value": "Map: 100%"
          }
        },
        "96a5bbcd7c094080bd130592737236d3": {
          "model_module": "@jupyter-widgets/controls",
          "model_name": "FloatProgressModel",
          "model_module_version": "1.5.0",
          "state": {
            "_dom_classes": [],
            "_model_module": "@jupyter-widgets/controls",
            "_model_module_version": "1.5.0",
            "_model_name": "FloatProgressModel",
            "_view_count": null,
            "_view_module": "@jupyter-widgets/controls",
            "_view_module_version": "1.5.0",
            "_view_name": "ProgressView",
            "bar_style": "success",
            "description": "",
            "description_tooltip": null,
            "layout": "IPY_MODEL_3a2d7ab885c5457b87968251a5b87d9e",
            "max": 10,
            "min": 0,
            "orientation": "horizontal",
            "style": "IPY_MODEL_c083c9d7ce5f442895cd7ffa63525bcf",
            "value": 10
          }
        },
        "8b6d800d2aee452e86e4500841ba0600": {
          "model_module": "@jupyter-widgets/controls",
          "model_name": "HTMLModel",
          "model_module_version": "1.5.0",
          "state": {
            "_dom_classes": [],
            "_model_module": "@jupyter-widgets/controls",
            "_model_module_version": "1.5.0",
            "_model_name": "HTMLModel",
            "_view_count": null,
            "_view_module": "@jupyter-widgets/controls",
            "_view_module_version": "1.5.0",
            "_view_name": "HTMLView",
            "description": "",
            "description_tooltip": null,
            "layout": "IPY_MODEL_a586614a344a46c4a826658a87801e1e",
            "placeholder": "​",
            "style": "IPY_MODEL_a240efa30d3b463e840a83d9690ce84e",
            "value": " 10/10 [00:00&lt;00:00, 160.81 examples/s]"
          }
        },
        "5900fa22c1ab43a4b6d0993197c3dbe4": {
          "model_module": "@jupyter-widgets/base",
          "model_name": "LayoutModel",
          "model_module_version": "1.2.0",
          "state": {
            "_model_module": "@jupyter-widgets/base",
            "_model_module_version": "1.2.0",
            "_model_name": "LayoutModel",
            "_view_count": null,
            "_view_module": "@jupyter-widgets/base",
            "_view_module_version": "1.2.0",
            "_view_name": "LayoutView",
            "align_content": null,
            "align_items": null,
            "align_self": null,
            "border": null,
            "bottom": null,
            "display": null,
            "flex": null,
            "flex_flow": null,
            "grid_area": null,
            "grid_auto_columns": null,
            "grid_auto_flow": null,
            "grid_auto_rows": null,
            "grid_column": null,
            "grid_gap": null,
            "grid_row": null,
            "grid_template_areas": null,
            "grid_template_columns": null,
            "grid_template_rows": null,
            "height": null,
            "justify_content": null,
            "justify_items": null,
            "left": null,
            "margin": null,
            "max_height": null,
            "max_width": null,
            "min_height": null,
            "min_width": null,
            "object_fit": null,
            "object_position": null,
            "order": null,
            "overflow": null,
            "overflow_x": null,
            "overflow_y": null,
            "padding": null,
            "right": null,
            "top": null,
            "visibility": null,
            "width": null
          }
        },
        "c5528692cabd4611a64ae0b3b6925c6c": {
          "model_module": "@jupyter-widgets/base",
          "model_name": "LayoutModel",
          "model_module_version": "1.2.0",
          "state": {
            "_model_module": "@jupyter-widgets/base",
            "_model_module_version": "1.2.0",
            "_model_name": "LayoutModel",
            "_view_count": null,
            "_view_module": "@jupyter-widgets/base",
            "_view_module_version": "1.2.0",
            "_view_name": "LayoutView",
            "align_content": null,
            "align_items": null,
            "align_self": null,
            "border": null,
            "bottom": null,
            "display": null,
            "flex": null,
            "flex_flow": null,
            "grid_area": null,
            "grid_auto_columns": null,
            "grid_auto_flow": null,
            "grid_auto_rows": null,
            "grid_column": null,
            "grid_gap": null,
            "grid_row": null,
            "grid_template_areas": null,
            "grid_template_columns": null,
            "grid_template_rows": null,
            "height": null,
            "justify_content": null,
            "justify_items": null,
            "left": null,
            "margin": null,
            "max_height": null,
            "max_width": null,
            "min_height": null,
            "min_width": null,
            "object_fit": null,
            "object_position": null,
            "order": null,
            "overflow": null,
            "overflow_x": null,
            "overflow_y": null,
            "padding": null,
            "right": null,
            "top": null,
            "visibility": null,
            "width": null
          }
        },
        "c1e75d53306441cebe58fd7f28130f66": {
          "model_module": "@jupyter-widgets/controls",
          "model_name": "DescriptionStyleModel",
          "model_module_version": "1.5.0",
          "state": {
            "_model_module": "@jupyter-widgets/controls",
            "_model_module_version": "1.5.0",
            "_model_name": "DescriptionStyleModel",
            "_view_count": null,
            "_view_module": "@jupyter-widgets/base",
            "_view_module_version": "1.2.0",
            "_view_name": "StyleView",
            "description_width": ""
          }
        },
        "3a2d7ab885c5457b87968251a5b87d9e": {
          "model_module": "@jupyter-widgets/base",
          "model_name": "LayoutModel",
          "model_module_version": "1.2.0",
          "state": {
            "_model_module": "@jupyter-widgets/base",
            "_model_module_version": "1.2.0",
            "_model_name": "LayoutModel",
            "_view_count": null,
            "_view_module": "@jupyter-widgets/base",
            "_view_module_version": "1.2.0",
            "_view_name": "LayoutView",
            "align_content": null,
            "align_items": null,
            "align_self": null,
            "border": null,
            "bottom": null,
            "display": null,
            "flex": null,
            "flex_flow": null,
            "grid_area": null,
            "grid_auto_columns": null,
            "grid_auto_flow": null,
            "grid_auto_rows": null,
            "grid_column": null,
            "grid_gap": null,
            "grid_row": null,
            "grid_template_areas": null,
            "grid_template_columns": null,
            "grid_template_rows": null,
            "height": null,
            "justify_content": null,
            "justify_items": null,
            "left": null,
            "margin": null,
            "max_height": null,
            "max_width": null,
            "min_height": null,
            "min_width": null,
            "object_fit": null,
            "object_position": null,
            "order": null,
            "overflow": null,
            "overflow_x": null,
            "overflow_y": null,
            "padding": null,
            "right": null,
            "top": null,
            "visibility": null,
            "width": null
          }
        },
        "c083c9d7ce5f442895cd7ffa63525bcf": {
          "model_module": "@jupyter-widgets/controls",
          "model_name": "ProgressStyleModel",
          "model_module_version": "1.5.0",
          "state": {
            "_model_module": "@jupyter-widgets/controls",
            "_model_module_version": "1.5.0",
            "_model_name": "ProgressStyleModel",
            "_view_count": null,
            "_view_module": "@jupyter-widgets/base",
            "_view_module_version": "1.2.0",
            "_view_name": "StyleView",
            "bar_color": null,
            "description_width": ""
          }
        },
        "a586614a344a46c4a826658a87801e1e": {
          "model_module": "@jupyter-widgets/base",
          "model_name": "LayoutModel",
          "model_module_version": "1.2.0",
          "state": {
            "_model_module": "@jupyter-widgets/base",
            "_model_module_version": "1.2.0",
            "_model_name": "LayoutModel",
            "_view_count": null,
            "_view_module": "@jupyter-widgets/base",
            "_view_module_version": "1.2.0",
            "_view_name": "LayoutView",
            "align_content": null,
            "align_items": null,
            "align_self": null,
            "border": null,
            "bottom": null,
            "display": null,
            "flex": null,
            "flex_flow": null,
            "grid_area": null,
            "grid_auto_columns": null,
            "grid_auto_flow": null,
            "grid_auto_rows": null,
            "grid_column": null,
            "grid_gap": null,
            "grid_row": null,
            "grid_template_areas": null,
            "grid_template_columns": null,
            "grid_template_rows": null,
            "height": null,
            "justify_content": null,
            "justify_items": null,
            "left": null,
            "margin": null,
            "max_height": null,
            "max_width": null,
            "min_height": null,
            "min_width": null,
            "object_fit": null,
            "object_position": null,
            "order": null,
            "overflow": null,
            "overflow_x": null,
            "overflow_y": null,
            "padding": null,
            "right": null,
            "top": null,
            "visibility": null,
            "width": null
          }
        },
        "a240efa30d3b463e840a83d9690ce84e": {
          "model_module": "@jupyter-widgets/controls",
          "model_name": "DescriptionStyleModel",
          "model_module_version": "1.5.0",
          "state": {
            "_model_module": "@jupyter-widgets/controls",
            "_model_module_version": "1.5.0",
            "_model_name": "DescriptionStyleModel",
            "_view_count": null,
            "_view_module": "@jupyter-widgets/base",
            "_view_module_version": "1.2.0",
            "_view_name": "StyleView",
            "description_width": ""
          }
        },
        "8090679e7f3d4e918ca4605f8e006538": {
          "model_module": "@jupyter-widgets/controls",
          "model_name": "HBoxModel",
          "model_module_version": "1.5.0",
          "state": {
            "_dom_classes": [],
            "_model_module": "@jupyter-widgets/controls",
            "_model_module_version": "1.5.0",
            "_model_name": "HBoxModel",
            "_view_count": null,
            "_view_module": "@jupyter-widgets/controls",
            "_view_module_version": "1.5.0",
            "_view_name": "HBoxView",
            "box_style": "",
            "children": [
              "IPY_MODEL_3e6896b95aca4ef682625cf09b980687",
              "IPY_MODEL_ea6e5967ed4445ac98fc2be88795e791",
              "IPY_MODEL_c350cf0d48984da0ab653a8fd8ca46aa"
            ],
            "layout": "IPY_MODEL_a3999fcf83504fdcb3cec34eff46b88c"
          }
        },
        "3e6896b95aca4ef682625cf09b980687": {
          "model_module": "@jupyter-widgets/controls",
          "model_name": "HTMLModel",
          "model_module_version": "1.5.0",
          "state": {
            "_dom_classes": [],
            "_model_module": "@jupyter-widgets/controls",
            "_model_module_version": "1.5.0",
            "_model_name": "HTMLModel",
            "_view_count": null,
            "_view_module": "@jupyter-widgets/controls",
            "_view_module_version": "1.5.0",
            "_view_name": "HTMLView",
            "description": "",
            "description_tooltip": null,
            "layout": "IPY_MODEL_4bf52a9ece5a4442982fc06e9644e85f",
            "placeholder": "​",
            "style": "IPY_MODEL_c819b526506440c29d230af3d48e9084",
            "value": "Filter: 100%"
          }
        },
        "ea6e5967ed4445ac98fc2be88795e791": {
          "model_module": "@jupyter-widgets/controls",
          "model_name": "FloatProgressModel",
          "model_module_version": "1.5.0",
          "state": {
            "_dom_classes": [],
            "_model_module": "@jupyter-widgets/controls",
            "_model_module_version": "1.5.0",
            "_model_name": "FloatProgressModel",
            "_view_count": null,
            "_view_module": "@jupyter-widgets/controls",
            "_view_module_version": "1.5.0",
            "_view_name": "ProgressView",
            "bar_style": "success",
            "description": "",
            "description_tooltip": null,
            "layout": "IPY_MODEL_6350edf459ac4c83a4b192306f4096a1",
            "max": 1000,
            "min": 0,
            "orientation": "horizontal",
            "style": "IPY_MODEL_034418bc95044a2ea0b72bb89334c242",
            "value": 1000
          }
        },
        "c350cf0d48984da0ab653a8fd8ca46aa": {
          "model_module": "@jupyter-widgets/controls",
          "model_name": "HTMLModel",
          "model_module_version": "1.5.0",
          "state": {
            "_dom_classes": [],
            "_model_module": "@jupyter-widgets/controls",
            "_model_module_version": "1.5.0",
            "_model_name": "HTMLModel",
            "_view_count": null,
            "_view_module": "@jupyter-widgets/controls",
            "_view_module_version": "1.5.0",
            "_view_name": "HTMLView",
            "description": "",
            "description_tooltip": null,
            "layout": "IPY_MODEL_da72a2bcb0564e98a2dcd0c02c46d341",
            "placeholder": "​",
            "style": "IPY_MODEL_204594e40cc341e399b2ee93756f1c0b",
            "value": " 1000/1000 [00:00&lt;00:00, 22033.88 examples/s]"
          }
        },
        "a3999fcf83504fdcb3cec34eff46b88c": {
          "model_module": "@jupyter-widgets/base",
          "model_name": "LayoutModel",
          "model_module_version": "1.2.0",
          "state": {
            "_model_module": "@jupyter-widgets/base",
            "_model_module_version": "1.2.0",
            "_model_name": "LayoutModel",
            "_view_count": null,
            "_view_module": "@jupyter-widgets/base",
            "_view_module_version": "1.2.0",
            "_view_name": "LayoutView",
            "align_content": null,
            "align_items": null,
            "align_self": null,
            "border": null,
            "bottom": null,
            "display": null,
            "flex": null,
            "flex_flow": null,
            "grid_area": null,
            "grid_auto_columns": null,
            "grid_auto_flow": null,
            "grid_auto_rows": null,
            "grid_column": null,
            "grid_gap": null,
            "grid_row": null,
            "grid_template_areas": null,
            "grid_template_columns": null,
            "grid_template_rows": null,
            "height": null,
            "justify_content": null,
            "justify_items": null,
            "left": null,
            "margin": null,
            "max_height": null,
            "max_width": null,
            "min_height": null,
            "min_width": null,
            "object_fit": null,
            "object_position": null,
            "order": null,
            "overflow": null,
            "overflow_x": null,
            "overflow_y": null,
            "padding": null,
            "right": null,
            "top": null,
            "visibility": null,
            "width": null
          }
        },
        "4bf52a9ece5a4442982fc06e9644e85f": {
          "model_module": "@jupyter-widgets/base",
          "model_name": "LayoutModel",
          "model_module_version": "1.2.0",
          "state": {
            "_model_module": "@jupyter-widgets/base",
            "_model_module_version": "1.2.0",
            "_model_name": "LayoutModel",
            "_view_count": null,
            "_view_module": "@jupyter-widgets/base",
            "_view_module_version": "1.2.0",
            "_view_name": "LayoutView",
            "align_content": null,
            "align_items": null,
            "align_self": null,
            "border": null,
            "bottom": null,
            "display": null,
            "flex": null,
            "flex_flow": null,
            "grid_area": null,
            "grid_auto_columns": null,
            "grid_auto_flow": null,
            "grid_auto_rows": null,
            "grid_column": null,
            "grid_gap": null,
            "grid_row": null,
            "grid_template_areas": null,
            "grid_template_columns": null,
            "grid_template_rows": null,
            "height": null,
            "justify_content": null,
            "justify_items": null,
            "left": null,
            "margin": null,
            "max_height": null,
            "max_width": null,
            "min_height": null,
            "min_width": null,
            "object_fit": null,
            "object_position": null,
            "order": null,
            "overflow": null,
            "overflow_x": null,
            "overflow_y": null,
            "padding": null,
            "right": null,
            "top": null,
            "visibility": null,
            "width": null
          }
        },
        "c819b526506440c29d230af3d48e9084": {
          "model_module": "@jupyter-widgets/controls",
          "model_name": "DescriptionStyleModel",
          "model_module_version": "1.5.0",
          "state": {
            "_model_module": "@jupyter-widgets/controls",
            "_model_module_version": "1.5.0",
            "_model_name": "DescriptionStyleModel",
            "_view_count": null,
            "_view_module": "@jupyter-widgets/base",
            "_view_module_version": "1.2.0",
            "_view_name": "StyleView",
            "description_width": ""
          }
        },
        "6350edf459ac4c83a4b192306f4096a1": {
          "model_module": "@jupyter-widgets/base",
          "model_name": "LayoutModel",
          "model_module_version": "1.2.0",
          "state": {
            "_model_module": "@jupyter-widgets/base",
            "_model_module_version": "1.2.0",
            "_model_name": "LayoutModel",
            "_view_count": null,
            "_view_module": "@jupyter-widgets/base",
            "_view_module_version": "1.2.0",
            "_view_name": "LayoutView",
            "align_content": null,
            "align_items": null,
            "align_self": null,
            "border": null,
            "bottom": null,
            "display": null,
            "flex": null,
            "flex_flow": null,
            "grid_area": null,
            "grid_auto_columns": null,
            "grid_auto_flow": null,
            "grid_auto_rows": null,
            "grid_column": null,
            "grid_gap": null,
            "grid_row": null,
            "grid_template_areas": null,
            "grid_template_columns": null,
            "grid_template_rows": null,
            "height": null,
            "justify_content": null,
            "justify_items": null,
            "left": null,
            "margin": null,
            "max_height": null,
            "max_width": null,
            "min_height": null,
            "min_width": null,
            "object_fit": null,
            "object_position": null,
            "order": null,
            "overflow": null,
            "overflow_x": null,
            "overflow_y": null,
            "padding": null,
            "right": null,
            "top": null,
            "visibility": null,
            "width": null
          }
        },
        "034418bc95044a2ea0b72bb89334c242": {
          "model_module": "@jupyter-widgets/controls",
          "model_name": "ProgressStyleModel",
          "model_module_version": "1.5.0",
          "state": {
            "_model_module": "@jupyter-widgets/controls",
            "_model_module_version": "1.5.0",
            "_model_name": "ProgressStyleModel",
            "_view_count": null,
            "_view_module": "@jupyter-widgets/base",
            "_view_module_version": "1.2.0",
            "_view_name": "StyleView",
            "bar_color": null,
            "description_width": ""
          }
        },
        "da72a2bcb0564e98a2dcd0c02c46d341": {
          "model_module": "@jupyter-widgets/base",
          "model_name": "LayoutModel",
          "model_module_version": "1.2.0",
          "state": {
            "_model_module": "@jupyter-widgets/base",
            "_model_module_version": "1.2.0",
            "_model_name": "LayoutModel",
            "_view_count": null,
            "_view_module": "@jupyter-widgets/base",
            "_view_module_version": "1.2.0",
            "_view_name": "LayoutView",
            "align_content": null,
            "align_items": null,
            "align_self": null,
            "border": null,
            "bottom": null,
            "display": null,
            "flex": null,
            "flex_flow": null,
            "grid_area": null,
            "grid_auto_columns": null,
            "grid_auto_flow": null,
            "grid_auto_rows": null,
            "grid_column": null,
            "grid_gap": null,
            "grid_row": null,
            "grid_template_areas": null,
            "grid_template_columns": null,
            "grid_template_rows": null,
            "height": null,
            "justify_content": null,
            "justify_items": null,
            "left": null,
            "margin": null,
            "max_height": null,
            "max_width": null,
            "min_height": null,
            "min_width": null,
            "object_fit": null,
            "object_position": null,
            "order": null,
            "overflow": null,
            "overflow_x": null,
            "overflow_y": null,
            "padding": null,
            "right": null,
            "top": null,
            "visibility": null,
            "width": null
          }
        },
        "204594e40cc341e399b2ee93756f1c0b": {
          "model_module": "@jupyter-widgets/controls",
          "model_name": "DescriptionStyleModel",
          "model_module_version": "1.5.0",
          "state": {
            "_model_module": "@jupyter-widgets/controls",
            "_model_module_version": "1.5.0",
            "_model_name": "DescriptionStyleModel",
            "_view_count": null,
            "_view_module": "@jupyter-widgets/base",
            "_view_module_version": "1.2.0",
            "_view_name": "StyleView",
            "description_width": ""
          }
        },
        "782fd2899f6048f4818845a0ae56253f": {
          "model_module": "@jupyter-widgets/controls",
          "model_name": "HBoxModel",
          "model_module_version": "1.5.0",
          "state": {
            "_dom_classes": [],
            "_model_module": "@jupyter-widgets/controls",
            "_model_module_version": "1.5.0",
            "_model_name": "HBoxModel",
            "_view_count": null,
            "_view_module": "@jupyter-widgets/controls",
            "_view_module_version": "1.5.0",
            "_view_name": "HBoxView",
            "box_style": "",
            "children": [
              "IPY_MODEL_d569180b8be5410c92d72c106b166582",
              "IPY_MODEL_5e9fff692724488ab24079cef89d0bf2",
              "IPY_MODEL_04dff9c7f51e49558479a1ee895d69b4"
            ],
            "layout": "IPY_MODEL_605486fed57b4acf9f5a757a72e81a44"
          }
        },
        "d569180b8be5410c92d72c106b166582": {
          "model_module": "@jupyter-widgets/controls",
          "model_name": "HTMLModel",
          "model_module_version": "1.5.0",
          "state": {
            "_dom_classes": [],
            "_model_module": "@jupyter-widgets/controls",
            "_model_module_version": "1.5.0",
            "_model_name": "HTMLModel",
            "_view_count": null,
            "_view_module": "@jupyter-widgets/controls",
            "_view_module_version": "1.5.0",
            "_view_name": "HTMLView",
            "description": "",
            "description_tooltip": null,
            "layout": "IPY_MODEL_c30af88bb29b4f1aa10d58350212fefd",
            "placeholder": "​",
            "style": "IPY_MODEL_ddee74a19bfa46b19b6100607dd1f3a2",
            "value": "Map: 100%"
          }
        },
        "5e9fff692724488ab24079cef89d0bf2": {
          "model_module": "@jupyter-widgets/controls",
          "model_name": "FloatProgressModel",
          "model_module_version": "1.5.0",
          "state": {
            "_dom_classes": [],
            "_model_module": "@jupyter-widgets/controls",
            "_model_module_version": "1.5.0",
            "_model_name": "FloatProgressModel",
            "_view_count": null,
            "_view_module": "@jupyter-widgets/controls",
            "_view_module_version": "1.5.0",
            "_view_name": "ProgressView",
            "bar_style": "success",
            "description": "",
            "description_tooltip": null,
            "layout": "IPY_MODEL_e2323341ffc44412a2ec89e187f4191f",
            "max": 1000,
            "min": 0,
            "orientation": "horizontal",
            "style": "IPY_MODEL_d4f3cc882b74483db6d9e56669c52093",
            "value": 1000
          }
        },
        "04dff9c7f51e49558479a1ee895d69b4": {
          "model_module": "@jupyter-widgets/controls",
          "model_name": "HTMLModel",
          "model_module_version": "1.5.0",
          "state": {
            "_dom_classes": [],
            "_model_module": "@jupyter-widgets/controls",
            "_model_module_version": "1.5.0",
            "_model_name": "HTMLModel",
            "_view_count": null,
            "_view_module": "@jupyter-widgets/controls",
            "_view_module_version": "1.5.0",
            "_view_name": "HTMLView",
            "description": "",
            "description_tooltip": null,
            "layout": "IPY_MODEL_3465109bc5d5420aa9eec1743473b53f",
            "placeholder": "​",
            "style": "IPY_MODEL_ee849459bfa444b0a2087be026610f79",
            "value": " 1000/1000 [00:00&lt;00:00, 5782.28 examples/s]"
          }
        },
        "605486fed57b4acf9f5a757a72e81a44": {
          "model_module": "@jupyter-widgets/base",
          "model_name": "LayoutModel",
          "model_module_version": "1.2.0",
          "state": {
            "_model_module": "@jupyter-widgets/base",
            "_model_module_version": "1.2.0",
            "_model_name": "LayoutModel",
            "_view_count": null,
            "_view_module": "@jupyter-widgets/base",
            "_view_module_version": "1.2.0",
            "_view_name": "LayoutView",
            "align_content": null,
            "align_items": null,
            "align_self": null,
            "border": null,
            "bottom": null,
            "display": null,
            "flex": null,
            "flex_flow": null,
            "grid_area": null,
            "grid_auto_columns": null,
            "grid_auto_flow": null,
            "grid_auto_rows": null,
            "grid_column": null,
            "grid_gap": null,
            "grid_row": null,
            "grid_template_areas": null,
            "grid_template_columns": null,
            "grid_template_rows": null,
            "height": null,
            "justify_content": null,
            "justify_items": null,
            "left": null,
            "margin": null,
            "max_height": null,
            "max_width": null,
            "min_height": null,
            "min_width": null,
            "object_fit": null,
            "object_position": null,
            "order": null,
            "overflow": null,
            "overflow_x": null,
            "overflow_y": null,
            "padding": null,
            "right": null,
            "top": null,
            "visibility": null,
            "width": null
          }
        },
        "c30af88bb29b4f1aa10d58350212fefd": {
          "model_module": "@jupyter-widgets/base",
          "model_name": "LayoutModel",
          "model_module_version": "1.2.0",
          "state": {
            "_model_module": "@jupyter-widgets/base",
            "_model_module_version": "1.2.0",
            "_model_name": "LayoutModel",
            "_view_count": null,
            "_view_module": "@jupyter-widgets/base",
            "_view_module_version": "1.2.0",
            "_view_name": "LayoutView",
            "align_content": null,
            "align_items": null,
            "align_self": null,
            "border": null,
            "bottom": null,
            "display": null,
            "flex": null,
            "flex_flow": null,
            "grid_area": null,
            "grid_auto_columns": null,
            "grid_auto_flow": null,
            "grid_auto_rows": null,
            "grid_column": null,
            "grid_gap": null,
            "grid_row": null,
            "grid_template_areas": null,
            "grid_template_columns": null,
            "grid_template_rows": null,
            "height": null,
            "justify_content": null,
            "justify_items": null,
            "left": null,
            "margin": null,
            "max_height": null,
            "max_width": null,
            "min_height": null,
            "min_width": null,
            "object_fit": null,
            "object_position": null,
            "order": null,
            "overflow": null,
            "overflow_x": null,
            "overflow_y": null,
            "padding": null,
            "right": null,
            "top": null,
            "visibility": null,
            "width": null
          }
        },
        "ddee74a19bfa46b19b6100607dd1f3a2": {
          "model_module": "@jupyter-widgets/controls",
          "model_name": "DescriptionStyleModel",
          "model_module_version": "1.5.0",
          "state": {
            "_model_module": "@jupyter-widgets/controls",
            "_model_module_version": "1.5.0",
            "_model_name": "DescriptionStyleModel",
            "_view_count": null,
            "_view_module": "@jupyter-widgets/base",
            "_view_module_version": "1.2.0",
            "_view_name": "StyleView",
            "description_width": ""
          }
        },
        "e2323341ffc44412a2ec89e187f4191f": {
          "model_module": "@jupyter-widgets/base",
          "model_name": "LayoutModel",
          "model_module_version": "1.2.0",
          "state": {
            "_model_module": "@jupyter-widgets/base",
            "_model_module_version": "1.2.0",
            "_model_name": "LayoutModel",
            "_view_count": null,
            "_view_module": "@jupyter-widgets/base",
            "_view_module_version": "1.2.0",
            "_view_name": "LayoutView",
            "align_content": null,
            "align_items": null,
            "align_self": null,
            "border": null,
            "bottom": null,
            "display": null,
            "flex": null,
            "flex_flow": null,
            "grid_area": null,
            "grid_auto_columns": null,
            "grid_auto_flow": null,
            "grid_auto_rows": null,
            "grid_column": null,
            "grid_gap": null,
            "grid_row": null,
            "grid_template_areas": null,
            "grid_template_columns": null,
            "grid_template_rows": null,
            "height": null,
            "justify_content": null,
            "justify_items": null,
            "left": null,
            "margin": null,
            "max_height": null,
            "max_width": null,
            "min_height": null,
            "min_width": null,
            "object_fit": null,
            "object_position": null,
            "order": null,
            "overflow": null,
            "overflow_x": null,
            "overflow_y": null,
            "padding": null,
            "right": null,
            "top": null,
            "visibility": null,
            "width": null
          }
        },
        "d4f3cc882b74483db6d9e56669c52093": {
          "model_module": "@jupyter-widgets/controls",
          "model_name": "ProgressStyleModel",
          "model_module_version": "1.5.0",
          "state": {
            "_model_module": "@jupyter-widgets/controls",
            "_model_module_version": "1.5.0",
            "_model_name": "ProgressStyleModel",
            "_view_count": null,
            "_view_module": "@jupyter-widgets/base",
            "_view_module_version": "1.2.0",
            "_view_name": "StyleView",
            "bar_color": null,
            "description_width": ""
          }
        },
        "3465109bc5d5420aa9eec1743473b53f": {
          "model_module": "@jupyter-widgets/base",
          "model_name": "LayoutModel",
          "model_module_version": "1.2.0",
          "state": {
            "_model_module": "@jupyter-widgets/base",
            "_model_module_version": "1.2.0",
            "_model_name": "LayoutModel",
            "_view_count": null,
            "_view_module": "@jupyter-widgets/base",
            "_view_module_version": "1.2.0",
            "_view_name": "LayoutView",
            "align_content": null,
            "align_items": null,
            "align_self": null,
            "border": null,
            "bottom": null,
            "display": null,
            "flex": null,
            "flex_flow": null,
            "grid_area": null,
            "grid_auto_columns": null,
            "grid_auto_flow": null,
            "grid_auto_rows": null,
            "grid_column": null,
            "grid_gap": null,
            "grid_row": null,
            "grid_template_areas": null,
            "grid_template_columns": null,
            "grid_template_rows": null,
            "height": null,
            "justify_content": null,
            "justify_items": null,
            "left": null,
            "margin": null,
            "max_height": null,
            "max_width": null,
            "min_height": null,
            "min_width": null,
            "object_fit": null,
            "object_position": null,
            "order": null,
            "overflow": null,
            "overflow_x": null,
            "overflow_y": null,
            "padding": null,
            "right": null,
            "top": null,
            "visibility": null,
            "width": null
          }
        },
        "ee849459bfa444b0a2087be026610f79": {
          "model_module": "@jupyter-widgets/controls",
          "model_name": "DescriptionStyleModel",
          "model_module_version": "1.5.0",
          "state": {
            "_model_module": "@jupyter-widgets/controls",
            "_model_module_version": "1.5.0",
            "_model_name": "DescriptionStyleModel",
            "_view_count": null,
            "_view_module": "@jupyter-widgets/base",
            "_view_module_version": "1.2.0",
            "_view_name": "StyleView",
            "description_width": ""
          }
        },
        "82466e5513bc414f8b223803a239900e": {
          "model_module": "@jupyter-widgets/controls",
          "model_name": "HBoxModel",
          "model_module_version": "1.5.0",
          "state": {
            "_dom_classes": [],
            "_model_module": "@jupyter-widgets/controls",
            "_model_module_version": "1.5.0",
            "_model_name": "HBoxModel",
            "_view_count": null,
            "_view_module": "@jupyter-widgets/controls",
            "_view_module_version": "1.5.0",
            "_view_name": "HBoxView",
            "box_style": "",
            "children": [
              "IPY_MODEL_9f2bf6e3525341748e0c3e0558a606f0",
              "IPY_MODEL_bbf125427f244be0bc5d4a4c3991d6d4",
              "IPY_MODEL_6fdbb6ad69504c1ba3ef49fd64493592"
            ],
            "layout": "IPY_MODEL_dc414c6409764f519ee86691338090fc"
          }
        },
        "9f2bf6e3525341748e0c3e0558a606f0": {
          "model_module": "@jupyter-widgets/controls",
          "model_name": "HTMLModel",
          "model_module_version": "1.5.0",
          "state": {
            "_dom_classes": [],
            "_model_module": "@jupyter-widgets/controls",
            "_model_module_version": "1.5.0",
            "_model_name": "HTMLModel",
            "_view_count": null,
            "_view_module": "@jupyter-widgets/controls",
            "_view_module_version": "1.5.0",
            "_view_name": "HTMLView",
            "description": "",
            "description_tooltip": null,
            "layout": "IPY_MODEL_e46eec7eef874ef197886055430a8e5c",
            "placeholder": "​",
            "style": "IPY_MODEL_59a848669e9548158ae353664754c516",
            "value": "Map: 100%"
          }
        },
        "bbf125427f244be0bc5d4a4c3991d6d4": {
          "model_module": "@jupyter-widgets/controls",
          "model_name": "FloatProgressModel",
          "model_module_version": "1.5.0",
          "state": {
            "_dom_classes": [],
            "_model_module": "@jupyter-widgets/controls",
            "_model_module_version": "1.5.0",
            "_model_name": "FloatProgressModel",
            "_view_count": null,
            "_view_module": "@jupyter-widgets/controls",
            "_view_module_version": "1.5.0",
            "_view_name": "ProgressView",
            "bar_style": "success",
            "description": "",
            "description_tooltip": null,
            "layout": "IPY_MODEL_26d232fe3719493eb29a6c5e5fd241ce",
            "max": 1000,
            "min": 0,
            "orientation": "horizontal",
            "style": "IPY_MODEL_d400a0a4f0384c9cac691ca97982bdca",
            "value": 1000
          }
        },
        "6fdbb6ad69504c1ba3ef49fd64493592": {
          "model_module": "@jupyter-widgets/controls",
          "model_name": "HTMLModel",
          "model_module_version": "1.5.0",
          "state": {
            "_dom_classes": [],
            "_model_module": "@jupyter-widgets/controls",
            "_model_module_version": "1.5.0",
            "_model_name": "HTMLModel",
            "_view_count": null,
            "_view_module": "@jupyter-widgets/controls",
            "_view_module_version": "1.5.0",
            "_view_name": "HTMLView",
            "description": "",
            "description_tooltip": null,
            "layout": "IPY_MODEL_25446a0205f44affba4035c36d48a7e3",
            "placeholder": "​",
            "style": "IPY_MODEL_d740640a88374558b024630aa25425bb",
            "value": " 1000/1000 [00:00&lt;00:00, 2143.75 examples/s]"
          }
        },
        "dc414c6409764f519ee86691338090fc": {
          "model_module": "@jupyter-widgets/base",
          "model_name": "LayoutModel",
          "model_module_version": "1.2.0",
          "state": {
            "_model_module": "@jupyter-widgets/base",
            "_model_module_version": "1.2.0",
            "_model_name": "LayoutModel",
            "_view_count": null,
            "_view_module": "@jupyter-widgets/base",
            "_view_module_version": "1.2.0",
            "_view_name": "LayoutView",
            "align_content": null,
            "align_items": null,
            "align_self": null,
            "border": null,
            "bottom": null,
            "display": null,
            "flex": null,
            "flex_flow": null,
            "grid_area": null,
            "grid_auto_columns": null,
            "grid_auto_flow": null,
            "grid_auto_rows": null,
            "grid_column": null,
            "grid_gap": null,
            "grid_row": null,
            "grid_template_areas": null,
            "grid_template_columns": null,
            "grid_template_rows": null,
            "height": null,
            "justify_content": null,
            "justify_items": null,
            "left": null,
            "margin": null,
            "max_height": null,
            "max_width": null,
            "min_height": null,
            "min_width": null,
            "object_fit": null,
            "object_position": null,
            "order": null,
            "overflow": null,
            "overflow_x": null,
            "overflow_y": null,
            "padding": null,
            "right": null,
            "top": null,
            "visibility": null,
            "width": null
          }
        },
        "e46eec7eef874ef197886055430a8e5c": {
          "model_module": "@jupyter-widgets/base",
          "model_name": "LayoutModel",
          "model_module_version": "1.2.0",
          "state": {
            "_model_module": "@jupyter-widgets/base",
            "_model_module_version": "1.2.0",
            "_model_name": "LayoutModel",
            "_view_count": null,
            "_view_module": "@jupyter-widgets/base",
            "_view_module_version": "1.2.0",
            "_view_name": "LayoutView",
            "align_content": null,
            "align_items": null,
            "align_self": null,
            "border": null,
            "bottom": null,
            "display": null,
            "flex": null,
            "flex_flow": null,
            "grid_area": null,
            "grid_auto_columns": null,
            "grid_auto_flow": null,
            "grid_auto_rows": null,
            "grid_column": null,
            "grid_gap": null,
            "grid_row": null,
            "grid_template_areas": null,
            "grid_template_columns": null,
            "grid_template_rows": null,
            "height": null,
            "justify_content": null,
            "justify_items": null,
            "left": null,
            "margin": null,
            "max_height": null,
            "max_width": null,
            "min_height": null,
            "min_width": null,
            "object_fit": null,
            "object_position": null,
            "order": null,
            "overflow": null,
            "overflow_x": null,
            "overflow_y": null,
            "padding": null,
            "right": null,
            "top": null,
            "visibility": null,
            "width": null
          }
        },
        "59a848669e9548158ae353664754c516": {
          "model_module": "@jupyter-widgets/controls",
          "model_name": "DescriptionStyleModel",
          "model_module_version": "1.5.0",
          "state": {
            "_model_module": "@jupyter-widgets/controls",
            "_model_module_version": "1.5.0",
            "_model_name": "DescriptionStyleModel",
            "_view_count": null,
            "_view_module": "@jupyter-widgets/base",
            "_view_module_version": "1.2.0",
            "_view_name": "StyleView",
            "description_width": ""
          }
        },
        "26d232fe3719493eb29a6c5e5fd241ce": {
          "model_module": "@jupyter-widgets/base",
          "model_name": "LayoutModel",
          "model_module_version": "1.2.0",
          "state": {
            "_model_module": "@jupyter-widgets/base",
            "_model_module_version": "1.2.0",
            "_model_name": "LayoutModel",
            "_view_count": null,
            "_view_module": "@jupyter-widgets/base",
            "_view_module_version": "1.2.0",
            "_view_name": "LayoutView",
            "align_content": null,
            "align_items": null,
            "align_self": null,
            "border": null,
            "bottom": null,
            "display": null,
            "flex": null,
            "flex_flow": null,
            "grid_area": null,
            "grid_auto_columns": null,
            "grid_auto_flow": null,
            "grid_auto_rows": null,
            "grid_column": null,
            "grid_gap": null,
            "grid_row": null,
            "grid_template_areas": null,
            "grid_template_columns": null,
            "grid_template_rows": null,
            "height": null,
            "justify_content": null,
            "justify_items": null,
            "left": null,
            "margin": null,
            "max_height": null,
            "max_width": null,
            "min_height": null,
            "min_width": null,
            "object_fit": null,
            "object_position": null,
            "order": null,
            "overflow": null,
            "overflow_x": null,
            "overflow_y": null,
            "padding": null,
            "right": null,
            "top": null,
            "visibility": null,
            "width": null
          }
        },
        "d400a0a4f0384c9cac691ca97982bdca": {
          "model_module": "@jupyter-widgets/controls",
          "model_name": "ProgressStyleModel",
          "model_module_version": "1.5.0",
          "state": {
            "_model_module": "@jupyter-widgets/controls",
            "_model_module_version": "1.5.0",
            "_model_name": "ProgressStyleModel",
            "_view_count": null,
            "_view_module": "@jupyter-widgets/base",
            "_view_module_version": "1.2.0",
            "_view_name": "StyleView",
            "bar_color": null,
            "description_width": ""
          }
        },
        "25446a0205f44affba4035c36d48a7e3": {
          "model_module": "@jupyter-widgets/base",
          "model_name": "LayoutModel",
          "model_module_version": "1.2.0",
          "state": {
            "_model_module": "@jupyter-widgets/base",
            "_model_module_version": "1.2.0",
            "_model_name": "LayoutModel",
            "_view_count": null,
            "_view_module": "@jupyter-widgets/base",
            "_view_module_version": "1.2.0",
            "_view_name": "LayoutView",
            "align_content": null,
            "align_items": null,
            "align_self": null,
            "border": null,
            "bottom": null,
            "display": null,
            "flex": null,
            "flex_flow": null,
            "grid_area": null,
            "grid_auto_columns": null,
            "grid_auto_flow": null,
            "grid_auto_rows": null,
            "grid_column": null,
            "grid_gap": null,
            "grid_row": null,
            "grid_template_areas": null,
            "grid_template_columns": null,
            "grid_template_rows": null,
            "height": null,
            "justify_content": null,
            "justify_items": null,
            "left": null,
            "margin": null,
            "max_height": null,
            "max_width": null,
            "min_height": null,
            "min_width": null,
            "object_fit": null,
            "object_position": null,
            "order": null,
            "overflow": null,
            "overflow_x": null,
            "overflow_y": null,
            "padding": null,
            "right": null,
            "top": null,
            "visibility": null,
            "width": null
          }
        },
        "d740640a88374558b024630aa25425bb": {
          "model_module": "@jupyter-widgets/controls",
          "model_name": "DescriptionStyleModel",
          "model_module_version": "1.5.0",
          "state": {
            "_model_module": "@jupyter-widgets/controls",
            "_model_module_version": "1.5.0",
            "_model_name": "DescriptionStyleModel",
            "_view_count": null,
            "_view_module": "@jupyter-widgets/base",
            "_view_module_version": "1.2.0",
            "_view_name": "StyleView",
            "description_width": ""
          }
        },
        "1b944d72081f4bf98171e1959412adc4": {
          "model_module": "@jupyter-widgets/controls",
          "model_name": "HBoxModel",
          "model_module_version": "1.5.0",
          "state": {
            "_dom_classes": [],
            "_model_module": "@jupyter-widgets/controls",
            "_model_module_version": "1.5.0",
            "_model_name": "HBoxModel",
            "_view_count": null,
            "_view_module": "@jupyter-widgets/controls",
            "_view_module_version": "1.5.0",
            "_view_name": "HBoxView",
            "box_style": "",
            "children": [
              "IPY_MODEL_58b7311d19164641bb62641abd59f63e",
              "IPY_MODEL_0f75eb984b03473aa3becd7bc6225374",
              "IPY_MODEL_8cdca42f6be3436295d10aa25cbee5d1"
            ],
            "layout": "IPY_MODEL_f435c23c9c6a4fa5886a9639a7328221"
          }
        },
        "58b7311d19164641bb62641abd59f63e": {
          "model_module": "@jupyter-widgets/controls",
          "model_name": "HTMLModel",
          "model_module_version": "1.5.0",
          "state": {
            "_dom_classes": [],
            "_model_module": "@jupyter-widgets/controls",
            "_model_module_version": "1.5.0",
            "_model_name": "HTMLModel",
            "_view_count": null,
            "_view_module": "@jupyter-widgets/controls",
            "_view_module_version": "1.5.0",
            "_view_name": "HTMLView",
            "description": "",
            "description_tooltip": null,
            "layout": "IPY_MODEL_2bd7f884ca5f453ab40af6e4e210a82e",
            "placeholder": "​",
            "style": "IPY_MODEL_6e6956f16bf14dec823fc5299f975efb",
            "value": "Map: 100%"
          }
        },
        "0f75eb984b03473aa3becd7bc6225374": {
          "model_module": "@jupyter-widgets/controls",
          "model_name": "FloatProgressModel",
          "model_module_version": "1.5.0",
          "state": {
            "_dom_classes": [],
            "_model_module": "@jupyter-widgets/controls",
            "_model_module_version": "1.5.0",
            "_model_name": "FloatProgressModel",
            "_view_count": null,
            "_view_module": "@jupyter-widgets/controls",
            "_view_module_version": "1.5.0",
            "_view_name": "ProgressView",
            "bar_style": "success",
            "description": "",
            "description_tooltip": null,
            "layout": "IPY_MODEL_888b1d9ddacc49f8aef747f7edfe243c",
            "max": 1000,
            "min": 0,
            "orientation": "horizontal",
            "style": "IPY_MODEL_222d592e9f4e42ffa6cbdd865a2f3cc9",
            "value": 1000
          }
        },
        "8cdca42f6be3436295d10aa25cbee5d1": {
          "model_module": "@jupyter-widgets/controls",
          "model_name": "HTMLModel",
          "model_module_version": "1.5.0",
          "state": {
            "_dom_classes": [],
            "_model_module": "@jupyter-widgets/controls",
            "_model_module_version": "1.5.0",
            "_model_name": "HTMLModel",
            "_view_count": null,
            "_view_module": "@jupyter-widgets/controls",
            "_view_module_version": "1.5.0",
            "_view_name": "HTMLView",
            "description": "",
            "description_tooltip": null,
            "layout": "IPY_MODEL_b97cc5b046044c61b9d4409933a73ccc",
            "placeholder": "​",
            "style": "IPY_MODEL_fa85190a1c004449b8ab99957261e5f3",
            "value": " 1000/1000 [00:00&lt;00:00, 3942.78 examples/s]"
          }
        },
        "f435c23c9c6a4fa5886a9639a7328221": {
          "model_module": "@jupyter-widgets/base",
          "model_name": "LayoutModel",
          "model_module_version": "1.2.0",
          "state": {
            "_model_module": "@jupyter-widgets/base",
            "_model_module_version": "1.2.0",
            "_model_name": "LayoutModel",
            "_view_count": null,
            "_view_module": "@jupyter-widgets/base",
            "_view_module_version": "1.2.0",
            "_view_name": "LayoutView",
            "align_content": null,
            "align_items": null,
            "align_self": null,
            "border": null,
            "bottom": null,
            "display": null,
            "flex": null,
            "flex_flow": null,
            "grid_area": null,
            "grid_auto_columns": null,
            "grid_auto_flow": null,
            "grid_auto_rows": null,
            "grid_column": null,
            "grid_gap": null,
            "grid_row": null,
            "grid_template_areas": null,
            "grid_template_columns": null,
            "grid_template_rows": null,
            "height": null,
            "justify_content": null,
            "justify_items": null,
            "left": null,
            "margin": null,
            "max_height": null,
            "max_width": null,
            "min_height": null,
            "min_width": null,
            "object_fit": null,
            "object_position": null,
            "order": null,
            "overflow": null,
            "overflow_x": null,
            "overflow_y": null,
            "padding": null,
            "right": null,
            "top": null,
            "visibility": null,
            "width": null
          }
        },
        "2bd7f884ca5f453ab40af6e4e210a82e": {
          "model_module": "@jupyter-widgets/base",
          "model_name": "LayoutModel",
          "model_module_version": "1.2.0",
          "state": {
            "_model_module": "@jupyter-widgets/base",
            "_model_module_version": "1.2.0",
            "_model_name": "LayoutModel",
            "_view_count": null,
            "_view_module": "@jupyter-widgets/base",
            "_view_module_version": "1.2.0",
            "_view_name": "LayoutView",
            "align_content": null,
            "align_items": null,
            "align_self": null,
            "border": null,
            "bottom": null,
            "display": null,
            "flex": null,
            "flex_flow": null,
            "grid_area": null,
            "grid_auto_columns": null,
            "grid_auto_flow": null,
            "grid_auto_rows": null,
            "grid_column": null,
            "grid_gap": null,
            "grid_row": null,
            "grid_template_areas": null,
            "grid_template_columns": null,
            "grid_template_rows": null,
            "height": null,
            "justify_content": null,
            "justify_items": null,
            "left": null,
            "margin": null,
            "max_height": null,
            "max_width": null,
            "min_height": null,
            "min_width": null,
            "object_fit": null,
            "object_position": null,
            "order": null,
            "overflow": null,
            "overflow_x": null,
            "overflow_y": null,
            "padding": null,
            "right": null,
            "top": null,
            "visibility": null,
            "width": null
          }
        },
        "6e6956f16bf14dec823fc5299f975efb": {
          "model_module": "@jupyter-widgets/controls",
          "model_name": "DescriptionStyleModel",
          "model_module_version": "1.5.0",
          "state": {
            "_model_module": "@jupyter-widgets/controls",
            "_model_module_version": "1.5.0",
            "_model_name": "DescriptionStyleModel",
            "_view_count": null,
            "_view_module": "@jupyter-widgets/base",
            "_view_module_version": "1.2.0",
            "_view_name": "StyleView",
            "description_width": ""
          }
        },
        "888b1d9ddacc49f8aef747f7edfe243c": {
          "model_module": "@jupyter-widgets/base",
          "model_name": "LayoutModel",
          "model_module_version": "1.2.0",
          "state": {
            "_model_module": "@jupyter-widgets/base",
            "_model_module_version": "1.2.0",
            "_model_name": "LayoutModel",
            "_view_count": null,
            "_view_module": "@jupyter-widgets/base",
            "_view_module_version": "1.2.0",
            "_view_name": "LayoutView",
            "align_content": null,
            "align_items": null,
            "align_self": null,
            "border": null,
            "bottom": null,
            "display": null,
            "flex": null,
            "flex_flow": null,
            "grid_area": null,
            "grid_auto_columns": null,
            "grid_auto_flow": null,
            "grid_auto_rows": null,
            "grid_column": null,
            "grid_gap": null,
            "grid_row": null,
            "grid_template_areas": null,
            "grid_template_columns": null,
            "grid_template_rows": null,
            "height": null,
            "justify_content": null,
            "justify_items": null,
            "left": null,
            "margin": null,
            "max_height": null,
            "max_width": null,
            "min_height": null,
            "min_width": null,
            "object_fit": null,
            "object_position": null,
            "order": null,
            "overflow": null,
            "overflow_x": null,
            "overflow_y": null,
            "padding": null,
            "right": null,
            "top": null,
            "visibility": null,
            "width": null
          }
        },
        "222d592e9f4e42ffa6cbdd865a2f3cc9": {
          "model_module": "@jupyter-widgets/controls",
          "model_name": "ProgressStyleModel",
          "model_module_version": "1.5.0",
          "state": {
            "_model_module": "@jupyter-widgets/controls",
            "_model_module_version": "1.5.0",
            "_model_name": "ProgressStyleModel",
            "_view_count": null,
            "_view_module": "@jupyter-widgets/base",
            "_view_module_version": "1.2.0",
            "_view_name": "StyleView",
            "bar_color": null,
            "description_width": ""
          }
        },
        "b97cc5b046044c61b9d4409933a73ccc": {
          "model_module": "@jupyter-widgets/base",
          "model_name": "LayoutModel",
          "model_module_version": "1.2.0",
          "state": {
            "_model_module": "@jupyter-widgets/base",
            "_model_module_version": "1.2.0",
            "_model_name": "LayoutModel",
            "_view_count": null,
            "_view_module": "@jupyter-widgets/base",
            "_view_module_version": "1.2.0",
            "_view_name": "LayoutView",
            "align_content": null,
            "align_items": null,
            "align_self": null,
            "border": null,
            "bottom": null,
            "display": null,
            "flex": null,
            "flex_flow": null,
            "grid_area": null,
            "grid_auto_columns": null,
            "grid_auto_flow": null,
            "grid_auto_rows": null,
            "grid_column": null,
            "grid_gap": null,
            "grid_row": null,
            "grid_template_areas": null,
            "grid_template_columns": null,
            "grid_template_rows": null,
            "height": null,
            "justify_content": null,
            "justify_items": null,
            "left": null,
            "margin": null,
            "max_height": null,
            "max_width": null,
            "min_height": null,
            "min_width": null,
            "object_fit": null,
            "object_position": null,
            "order": null,
            "overflow": null,
            "overflow_x": null,
            "overflow_y": null,
            "padding": null,
            "right": null,
            "top": null,
            "visibility": null,
            "width": null
          }
        },
        "fa85190a1c004449b8ab99957261e5f3": {
          "model_module": "@jupyter-widgets/controls",
          "model_name": "DescriptionStyleModel",
          "model_module_version": "1.5.0",
          "state": {
            "_model_module": "@jupyter-widgets/controls",
            "_model_module_version": "1.5.0",
            "_model_name": "DescriptionStyleModel",
            "_view_count": null,
            "_view_module": "@jupyter-widgets/base",
            "_view_module_version": "1.2.0",
            "_view_name": "StyleView",
            "description_width": ""
          }
        }
      }
    }
  },
  "nbformat": 4,
  "nbformat_minor": 5
}